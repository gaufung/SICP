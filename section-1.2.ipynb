{
 "cells": [
  {
   "cell_type": "markdown",
   "metadata": {},
   "source": [
    "**Example**"
   ]
  },
  {
   "cell_type": "code",
   "execution_count": 1,
   "metadata": {
    "collapsed": true
   },
   "outputs": [],
   "source": [
    "(define (factorial n)\n",
    "  (if (= n 1)\n",
    "      1\n",
    "      (* n (factorial (- n 1)))))"
   ]
  },
  {
   "cell_type": "code",
   "execution_count": 2,
   "metadata": {
    "collapsed": true
   },
   "outputs": [],
   "source": [
    "(define (factorial n)\n",
    "  (define (fact-iter product counter max-count)\n",
    "    (if (> counter max-count)\n",
    "        product\n",
    "        (fact-iter (* counter product)\n",
    "                   (+ counter 1)\n",
    "                   max-count)))\n",
    "  (fact-iter 1 1n))"
   ]
  },
  {
   "cell_type": "markdown",
   "metadata": {},
   "source": [
    "**Exercise 1.10**"
   ]
  },
  {
   "cell_type": "code",
   "execution_count": 3,
   "metadata": {
    "collapsed": true
   },
   "outputs": [],
   "source": [
    "(define (A x y)\n",
    "  (cond ((= y 0) 0)\n",
    "        ((= x 0) (* 2 y))\n",
    "        ((= y 1) 2)\n",
    "        (else (A (- x 1) (A x (- y 1))))))"
   ]
  },
  {
   "cell_type": "code",
   "execution_count": 4,
   "metadata": {
    "collapsed": false
   },
   "outputs": [
    {
     "data": {
      "text/plain": [
       "1024"
      ]
     },
     "execution_count": 4,
     "metadata": {},
     "output_type": "execute_result"
    }
   ],
   "source": [
    "(A 1 10)"
   ]
  },
  {
   "cell_type": "code",
   "execution_count": 5,
   "metadata": {
    "collapsed": false
   },
   "outputs": [
    {
     "data": {
      "text/plain": [
       "65536"
      ]
     },
     "execution_count": 5,
     "metadata": {},
     "output_type": "execute_result"
    }
   ],
   "source": [
    "(A 2 4)"
   ]
  },
  {
   "cell_type": "code",
   "execution_count": 6,
   "metadata": {
    "collapsed": false
   },
   "outputs": [
    {
     "data": {
      "text/plain": [
       "65536"
      ]
     },
     "execution_count": 6,
     "metadata": {},
     "output_type": "execute_result"
    }
   ],
   "source": [
    "(A 3 3)"
   ]
  },
  {
   "cell_type": "code",
   "execution_count": 7,
   "metadata": {
    "collapsed": true
   },
   "outputs": [],
   "source": [
    "(define (f n)(A 0 n))\n",
    "(define (g n)(A 1 n))\n",
    "(define (h n)(A 2 n))"
   ]
  },
  {
   "cell_type": "code",
   "execution_count": 8,
   "metadata": {
    "collapsed": false
   },
   "outputs": [
    {
     "data": {
      "text/plain": [
       "6"
      ]
     },
     "execution_count": 8,
     "metadata": {},
     "output_type": "execute_result"
    }
   ],
   "source": [
    "(f 3)"
   ]
  },
  {
   "cell_type": "code",
   "execution_count": 9,
   "metadata": {
    "collapsed": false
   },
   "outputs": [
    {
     "data": {
      "text/plain": [
       "8"
      ]
     },
     "execution_count": 9,
     "metadata": {},
     "output_type": "execute_result"
    }
   ],
   "source": [
    "(g 3)"
   ]
  },
  {
   "cell_type": "code",
   "execution_count": 10,
   "metadata": {
    "collapsed": false
   },
   "outputs": [
    {
     "data": {
      "text/plain": [
       "16"
      ]
     },
     "execution_count": 10,
     "metadata": {},
     "output_type": "execute_result"
    }
   ],
   "source": [
    "(h 3)"
   ]
  },
  {
   "cell_type": "markdown",
   "metadata": {},
   "source": [
    "**Example**"
   ]
  },
  {
   "cell_type": "code",
   "execution_count": 11,
   "metadata": {
    "collapsed": true
   },
   "outputs": [],
   "source": [
    "(define (fib n)\n",
    "  (cond ((= n 0) 0)\n",
    "        ((= n 1) 1)\n",
    "        (else (+ (fib (- n 1))\n",
    "                 (fib (- n 2))))))"
   ]
  },
  {
   "cell_type": "code",
   "execution_count": 12,
   "metadata": {
    "collapsed": true
   },
   "outputs": [],
   "source": [
    "(define (fib n)\n",
    "  (fib-iter 1 0 n))\n",
    "(define (fib-iter a b count)\n",
    "  (if (= count 0)\n",
    "      b\n",
    "      (fib-iter (+ a b) a (- count 1))))"
   ]
  },
  {
   "cell_type": "markdown",
   "metadata": {},
   "source": [
    "**Example**"
   ]
  },
  {
   "cell_type": "code",
   "execution_count": 13,
   "metadata": {
    "collapsed": false
   },
   "outputs": [],
   "source": [
    "(define (count-change amount) (cc amount 5))\n",
    "(define (cc amount kinds-of-coins)\n",
    "  (cond ((= amount 0) 1)\n",
    "        ((or (< amount 0) (= kinds-of-coins 0)) 0)\n",
    "        (else (+ (cc amount\n",
    "                     (- kinds-of-coins 1))\n",
    "                 (cc (- amount \n",
    "                        (first-denomination kinds-of-coins))\n",
    "                     kinds-of-coins)))))\n",
    "(define (first-denomination kinds-of-coins)\n",
    "       (cond ((= kinds-of-coins 1) 1)\n",
    "             ((= kinds-of-coins 2) 5)\n",
    "             ((= kinds-of-coins 3) 10)\n",
    "             ((= kinds-of-coins 4) 25)\n",
    "             ((= kinds-of-coins 5) 50)))"
   ]
  },
  {
   "cell_type": "code",
   "execution_count": 14,
   "metadata": {
    "collapsed": false
   },
   "outputs": [
    {
     "data": {
      "text/plain": [
       "292"
      ]
     },
     "execution_count": 14,
     "metadata": {},
     "output_type": "execute_result"
    }
   ],
   "source": [
    "(count-change 100)"
   ]
  },
  {
   "cell_type": "markdown",
   "metadata": {},
   "source": [
    "**Exercise 1.11**"
   ]
  },
  {
   "cell_type": "code",
   "execution_count": 15,
   "metadata": {
    "collapsed": true
   },
   "outputs": [],
   "source": [
    "(define (f-recursive n)\n",
    "  (if (< n 3) \n",
    "      n\n",
    "      (+ (f-recursive (- n 1)) (* (f-recursive (- n 2)) 2) (* (f-recursive (- n 3)) 3))))"
   ]
  },
  {
   "cell_type": "code",
   "execution_count": 16,
   "metadata": {
    "collapsed": false
   },
   "outputs": [
    {
     "data": {
      "text/plain": [
       "1892"
      ]
     },
     "execution_count": 16,
     "metadata": {},
     "output_type": "execute_result"
    }
   ],
   "source": [
    "(f-recursive 10)"
   ]
  },
  {
   "cell_type": "code",
   "execution_count": 19,
   "metadata": {
    "collapsed": true
   },
   "outputs": [],
   "source": [
    "(define (f-iterative n)\n",
    "    (f-iter 0 1 2 n))\n",
    "\n",
    "(define (f-iter a b c count)\n",
    "    (cond ((= count 0) a)\n",
    "        ((= count 1) b)\n",
    "        ((= count 2) c)\n",
    "        (else (f-iter b c (+ (* 3 a) (* 2 b) (* 1 c)) (- count 1)))))"
   ]
  },
  {
   "cell_type": "code",
   "execution_count": 20,
   "metadata": {
    "collapsed": false
   },
   "outputs": [
    {
     "data": {
      "text/plain": [
       "1892"
      ]
     },
     "execution_count": 20,
     "metadata": {},
     "output_type": "execute_result"
    }
   ],
   "source": [
    "(f-iterative 10)"
   ]
  },
  {
   "cell_type": "markdown",
   "metadata": {},
   "source": [
    "**Exercise 1.12**"
   ]
  },
  {
   "cell_type": "code",
   "execution_count": 21,
   "metadata": {
    "collapsed": true
   },
   "outputs": [],
   "source": [
    "(define (pascal-triangle x y)\n",
    "    (cond ((= y 1) 1)\n",
    "        ((= y x) 1)\n",
    "        (else (+ (pascal-triangle (- x 1) (- y 1)) (pascal-triangle (- x 1) (+ y 0))))))"
   ]
  },
  {
   "cell_type": "code",
   "execution_count": 22,
   "metadata": {
    "collapsed": false
   },
   "outputs": [
    {
     "data": {
      "text/plain": [
       "126"
      ]
     },
     "execution_count": 22,
     "metadata": {},
     "output_type": "execute_result"
    }
   ],
   "source": [
    "(pascal-triangle 10 6)"
   ]
  },
  {
   "cell_type": "markdown",
   "metadata": {},
   "source": [
    "**Exercise 1.15**"
   ]
  },
  {
   "cell_type": "code",
   "execution_count": 23,
   "metadata": {
    "collapsed": false
   },
   "outputs": [],
   "source": [
    "(define (cube x) (* x x x))\n",
    "(define (p x) (- (* 3 x) (* 4 (cube x))))\n",
    "(define (sine angle)\n",
    "  (if (not (> (abs angle) 0.1))\n",
    "      angle\n",
    "      (p (sine (/ angle 3.0)))))"
   ]
  },
  {
   "cell_type": "code",
   "execution_count": 24,
   "metadata": {
    "collapsed": false
   },
   "outputs": [
    {
     "data": {
      "text/plain": [
       "-0.39980345741334"
      ]
     },
     "execution_count": 24,
     "metadata": {},
     "output_type": "execute_result"
    }
   ],
   "source": [
    "(sine 12.15)"
   ]
  },
  {
   "cell_type": "markdown",
   "metadata": {},
   "source": [
    "**Example**"
   ]
  },
  {
   "cell_type": "code",
   "execution_count": 25,
   "metadata": {
    "collapsed": true
   },
   "outputs": [],
   "source": [
    "(define (expt b n)\n",
    "  (if (= n 0)\n",
    "      1\n",
    "      (* b (expt b (- n 1)))))"
   ]
  },
  {
   "cell_type": "code",
   "execution_count": 26,
   "metadata": {
    "collapsed": true
   },
   "outputs": [],
   "source": [
    "(define (expt b n)\n",
    "  (expt-iter b n 1))\n",
    "(define (expt-iter b counter product)\n",
    "  (if (= counter 0)\n",
    "      product\n",
    "      (expt-iter b\n",
    "                 (- counter 1)\n",
    "                 (* b product))))"
   ]
  },
  {
   "cell_type": "code",
   "execution_count": 27,
   "metadata": {
    "collapsed": true
   },
   "outputs": [],
   "source": [
    "(define (fast-expt b n)\n",
    "  (cond ((= n 0) 1)\n",
    "        ((even? n) (sqare (fast-expt b (/ n 2))))\n",
    "        (else (* b (fast-expt b (- n 1))))))\n",
    "(define (even? n)\n",
    "  (= (remainder n 2) 0))"
   ]
  },
  {
   "cell_type": "markdown",
   "metadata": {
    "collapsed": true
   },
   "source": [
    "**Exercise 1.18**"
   ]
  },
  {
   "cell_type": "code",
   "execution_count": 28,
   "metadata": {
    "collapsed": true
   },
   "outputs": [],
   "source": [
    "(define (* a b)\n",
    "  (if (= b 0)\n",
    "      0\n",
    "      (+ a (* a (- b 1)))))"
   ]
  },
  {
   "cell_type": "code",
   "execution_count": 29,
   "metadata": {
    "collapsed": true
   },
   "outputs": [],
   "source": [
    "(define (fast-product a b)\n",
    "  (cond ((= b 0) 0)\n",
    "        ((even? b)(double (fast-product a (/ b 2))))\n",
    "        (else (+ a (fast-product a (- b 1))))))\n",
    "(define (even? n)\n",
    "  (= (remainder n 2) 0))\n",
    "(define (double n)\n",
    "  (+ n n))\n",
    "  "
   ]
  },
  {
   "cell_type": "code",
   "execution_count": 30,
   "metadata": {
    "collapsed": false
   },
   "outputs": [
    {
     "data": {
      "text/plain": [
       "15"
      ]
     },
     "execution_count": 30,
     "metadata": {},
     "output_type": "execute_result"
    }
   ],
   "source": [
    "(fast-product 5 3)"
   ]
  },
  {
   "cell_type": "markdown",
   "metadata": {},
   "source": [
    "**Exercise 1.19**"
   ]
  },
  {
   "cell_type": "code",
   "execution_count": 31,
   "metadata": {
    "collapsed": true
   },
   "outputs": [],
   "source": [
    "(define (fib n)\n",
    "  (fib-iter 1 0 1 1 1 0 n))\n",
    "(define (fib-iter a b c d e f count)\n",
    "  (cond ((= count 0 ) b)\n",
    "        ((even? count)\n",
    "         (fib-iter a \n",
    "                   b \n",
    "                   (+ (* c c) (* d e)) \n",
    "                   (+ (* c d) (* d f)) \n",
    "                   (+ (* e c) (* f e)) \n",
    "                   (+ (* e d) (* f f)) \n",
    "                   (/ count 2)))\n",
    "        (else (fib-iter (+ (* a c) (* b d))\n",
    "                        (+ (* a e) (* f b))\n",
    "                        c \n",
    "                        d\n",
    "                        e\n",
    "                        f\n",
    "                        (- count 1)))))"
   ]
  },
  {
   "cell_type": "code",
   "execution_count": 32,
   "metadata": {
    "collapsed": false
   },
   "outputs": [
    {
     "data": {
      "text/plain": [
       "832040"
      ]
     },
     "execution_count": 32,
     "metadata": {},
     "output_type": "execute_result"
    }
   ],
   "source": [
    "(fib 30)"
   ]
  },
  {
   "cell_type": "markdown",
   "metadata": {},
   "source": [
    "**Example**"
   ]
  },
  {
   "cell_type": "code",
   "execution_count": 33,
   "metadata": {
    "collapsed": true
   },
   "outputs": [],
   "source": [
    "(define (gcd a b)\n",
    "  (if (= b 0)\n",
    "      a \n",
    "      (gcd b (remainder a b))))"
   ]
  },
  {
   "cell_type": "code",
   "execution_count": 42,
   "metadata": {
    "collapsed": false
   },
   "outputs": [],
   "source": [
    "(define (smaller-divisor n)\n",
    "  (find-divisor n 2))\n",
    "(define (find-divisor n test-divisor)\n",
    "  (cond (( > (square test-divisor) n) n)\n",
    "        ((divides? test-divisor n) test-divisor)\n",
    "        (else (find-divisor n (+ test-divisor 1)))))\n",
    "(define (divides? a b)\n",
    "  (= (remainder b a) 0))\n",
    "(define (square n) (* n n))\n",
    "(define (prime? n)\n",
    "  (= n (smaller-divisor n)))"
   ]
  },
  {
   "cell_type": "code",
   "execution_count": 52,
   "metadata": {
    "collapsed": true
   },
   "outputs": [],
   "source": [
    "(define (expmod base exp m)\n",
    "  (cond ((= exp 0) 1)\n",
    "        ((even? exp)\n",
    "         (remainder (square (expmod base (/ exp 2) m)) m))\n",
    "        (else\n",
    "         (remainder (* base (expmod base (- exp 1) m)) m))))\n",
    "(define (fermat-test n)\n",
    "  (define (try-it a)\n",
    "    (= (expmod a n n) a))\n",
    "  (try-it (+ 1 (random (- n 1)))))\n",
    "(define (fast-prime? n times)\n",
    "  (cond ((= times 0) #t)\n",
    "        ((fermat-test n)(fast-prime? n (- times 1)))\n",
    "        (else #f)))\n"
   ]
  },
  {
   "cell_type": "code",
   "execution_count": 55,
   "metadata": {
    "collapsed": false
   },
   "outputs": [
    {
     "data": {
      "text/plain": [
       "#t"
      ]
     },
     "execution_count": 55,
     "metadata": {},
     "output_type": "execute_result"
    }
   ],
   "source": [
    "(fast-prime? 561 10)"
   ]
  },
  {
   "cell_type": "markdown",
   "metadata": {},
   "source": [
    "**Exercise 1.21**"
   ]
  },
  {
   "cell_type": "code",
   "execution_count": 56,
   "metadata": {
    "collapsed": false
   },
   "outputs": [
    {
     "data": {
      "text/plain": [
       "199"
      ]
     },
     "execution_count": 56,
     "metadata": {},
     "output_type": "execute_result"
    }
   ],
   "source": [
    "(smaller-divisor 199)"
   ]
  },
  {
   "cell_type": "code",
   "execution_count": 58,
   "metadata": {
    "collapsed": false
   },
   "outputs": [
    {
     "data": {
      "text/plain": [
       "1999"
      ]
     },
     "execution_count": 58,
     "metadata": {},
     "output_type": "execute_result"
    }
   ],
   "source": [
    "(smaller-divisor 1999)"
   ]
  },
  {
   "cell_type": "code",
   "execution_count": 59,
   "metadata": {
    "collapsed": false
   },
   "outputs": [
    {
     "data": {
      "text/plain": [
       "7"
      ]
     },
     "execution_count": 59,
     "metadata": {},
     "output_type": "execute_result"
    }
   ],
   "source": [
    "(smaller-divisor 19999)"
   ]
  },
  {
   "cell_type": "markdown",
   "metadata": {},
   "source": [
    "**Exercise 1.22**"
   ]
  },
  {
   "cell_type": "code",
   "execution_count": 60,
   "metadata": {
    "collapsed": true
   },
   "outputs": [],
   "source": [
    "(define (timed-prime-test n)\n",
    "  (newline)\n",
    "  (display n)\n",
    "  (start-prime-test n (runtime)))\n",
    "(define (start-prime-test n start-time)\n",
    "  (if (prime? n)\n",
    "      (report-prime (- (runtime) start-time))))\n",
    "(define (report-prime elapsed-time)\n",
    "  (display \" ***  \")\n",
    "  (display elapsed-time))"
   ]
  }
 ],
 "metadata": {
  "kernelspec": {
   "display_name": "Calysto Scheme 3",
   "language": "scheme",
   "name": "calysto_scheme"
  },
  "language_info": {
   "codemirror_mode": {
    "name": "scheme"
   },
   "mimetype": "text/x-scheme",
   "name": "scheme",
   "pygments_lexer": "scheme"
  }
 },
 "nbformat": 4,
 "nbformat_minor": 2
}
