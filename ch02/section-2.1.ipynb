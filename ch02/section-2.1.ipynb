{
 "cells": [
  {
   "cell_type": "markdown",
   "metadata": {},
   "source": [
    "**Example**"
   ]
  },
  {
   "cell_type": "code",
   "execution_count": 1,
   "metadata": {
    "collapsed": true
   },
   "outputs": [],
   "source": [
    "(define (add-rat x y)\n",
    "  (make-rat (+ (* (numer x)(denom y))\n",
    "               (* (numer y)(denom x)))\n",
    "            (* (denom x)(denom y))))\n",
    "(define (sub-rat x y)\n",
    "  (make-rat (- (* (numer x)(denom y))\n",
    "               (* (numer y)(denom x)))\n",
    "            (* (denom x)(denom y))))\n",
    "(define (mul-rat x y)\n",
    "  (make-rat (* (numer x)(numer y))\n",
    "            (* (denom x)(denom y))))\n",
    "(define (div-rat x y)\n",
    "  (make-rat (* (numer x)(denom y))\n",
    "            (* (denom x)(numer y))))\n",
    "(define (equal-rat? x y)\n",
    "  (= (* (numer x)(denom y))\n",
    "     (* (numer y)(denom x))))"
   ]
  },
  {
   "cell_type": "code",
   "execution_count": 2,
   "metadata": {
    "collapsed": false
   },
   "outputs": [
    {
     "data": {
      "text/plain": [
       "1"
      ]
     },
     "execution_count": 2,
     "metadata": {},
     "output_type": "execute_result"
    }
   ],
   "source": [
    "(define x (cons 1 2))\n",
    "(car x)"
   ]
  },
  {
   "cell_type": "code",
   "execution_count": 4,
   "metadata": {
    "collapsed": false
   },
   "outputs": [
    {
     "data": {
      "text/plain": [
       "2"
      ]
     },
     "execution_count": 4,
     "metadata": {},
     "output_type": "execute_result"
    }
   ],
   "source": [
    "(cdr x)"
   ]
  },
  {
   "cell_type": "code",
   "execution_count": 5,
   "metadata": {
    "collapsed": true
   },
   "outputs": [],
   "source": [
    "(define (make-rat n d)(cons n d))\n",
    "(define (numer x)(car x))\n",
    "(define (denom x)(cdr x))"
   ]
  },
  {
   "cell_type": "code",
   "execution_count": 6,
   "metadata": {
    "collapsed": true
   },
   "outputs": [],
   "source": [
    "(define (print-rat x)\n",
    "  (newline)\n",
    "  (display (numer x))\n",
    "  (display \"/\")\n",
    "  (display (denom x)))"
   ]
  },
  {
   "cell_type": "code",
   "execution_count": 7,
   "metadata": {
    "collapsed": false
   },
   "outputs": [
    {
     "name": "stdout",
     "output_type": "stream",
     "text": [
      "\n",
      "1/2"
     ]
    }
   ],
   "source": [
    "(define one-half (make-rat 1 2))\n",
    "(print-rat one-half)"
   ]
  },
  {
   "cell_type": "code",
   "execution_count": 8,
   "metadata": {
    "collapsed": false
   },
   "outputs": [
    {
     "name": "stdout",
     "output_type": "stream",
     "text": [
      "\n",
      "1/3"
     ]
    }
   ],
   "source": [
    "(define one-third (make-rat 1 3))\n",
    "(print-rat one-third)"
   ]
  },
  {
   "cell_type": "code",
   "execution_count": 9,
   "metadata": {
    "collapsed": false
   },
   "outputs": [
    {
     "name": "stdout",
     "output_type": "stream",
     "text": [
      "\n",
      "5/6"
     ]
    }
   ],
   "source": [
    "(print-rat (add-rat one-half one-third))"
   ]
  },
  {
   "cell_type": "code",
   "execution_count": 10,
   "metadata": {
    "collapsed": false
   },
   "outputs": [
    {
     "name": "stdout",
     "output_type": "stream",
     "text": [
      "\n",
      "1/6"
     ]
    }
   ],
   "source": [
    "(print-rat (mul-rat one-half one-third))"
   ]
  },
  {
   "cell_type": "code",
   "execution_count": 11,
   "metadata": {
    "collapsed": false
   },
   "outputs": [
    {
     "name": "stdout",
     "output_type": "stream",
     "text": [
      "\n",
      "6/9"
     ]
    }
   ],
   "source": [
    "(print-rat (add-rat one-third one-third))"
   ]
  },
  {
   "cell_type": "code",
   "execution_count": 12,
   "metadata": {
    "collapsed": true
   },
   "outputs": [],
   "source": [
    "(define (gcd a b)\n",
    "  (if (= b 0)\n",
    "      a\n",
    "      (gcd b (remainder a b))))"
   ]
  },
  {
   "cell_type": "code",
   "execution_count": 15,
   "metadata": {
    "collapsed": false
   },
   "outputs": [],
   "source": [
    "(define (make-rat n d)\n",
    "  (let ((g (gcd n d)))\n",
    "    (cons (/ n g)(/ d g))))"
   ]
  },
  {
   "cell_type": "code",
   "execution_count": 16,
   "metadata": {
    "collapsed": false
   },
   "outputs": [
    {
     "name": "stdout",
     "output_type": "stream",
     "text": [
      "\n",
      "2/3"
     ]
    }
   ],
   "source": [
    "(print-rat (add-rat one-third one-third))"
   ]
  },
  {
   "cell_type": "markdown",
   "metadata": {},
   "source": [
    "**Exercise 2.1**"
   ]
  },
  {
   "cell_type": "code",
   "execution_count": 28,
   "metadata": {
    "collapsed": false
   },
   "outputs": [],
   "source": [
    "(define (make-rat n d)\n",
    "  (cond ((and (< n 0) (< d 0))(make-rat (- n)(- d)))\n",
    "        ((and (> n 0) (< d 0))(make-rat (- n)(- d)))\n",
    "        (else\n",
    "         (let ((g (gcd n d)))\n",
    "           (cons (/ n g)(/ d g))))))"
   ]
  },
  {
   "cell_type": "code",
   "execution_count": 29,
   "metadata": {
    "collapsed": false
   },
   "outputs": [
    {
     "name": "stdout",
     "output_type": "stream",
     "text": [
      "\n",
      "-2/3"
     ]
    }
   ],
   "source": [
    "(print-rat (make-rat -6 9))"
   ]
  },
  {
   "cell_type": "code",
   "execution_count": 30,
   "metadata": {
    "collapsed": false
   },
   "outputs": [
    {
     "name": "stdout",
     "output_type": "stream",
     "text": [
      "\n",
      "2/3"
     ]
    }
   ],
   "source": [
    "(print-rat (make-rat -6 -9))"
   ]
  },
  {
   "cell_type": "code",
   "execution_count": 32,
   "metadata": {
    "collapsed": false
   },
   "outputs": [
    {
     "name": "stdout",
     "output_type": "stream",
     "text": [
      "\n",
      "-2/3"
     ]
    }
   ],
   "source": [
    "(print-rat (make-rat 6 -9))"
   ]
  },
  {
   "cell_type": "markdown",
   "metadata": {},
   "source": [
    "**Exercise 2.2**"
   ]
  },
  {
   "cell_type": "code",
   "execution_count": 35,
   "metadata": {
    "collapsed": true
   },
   "outputs": [],
   "source": [
    "(define (make-point x y) (cons x y))\n",
    "(define (x-point p)(car p))\n",
    "(define (y-point p)(cdr p))\n",
    "(define (make-segment p1 p2)(cons p1 p2))\n",
    "(define (start-segment s)(car s))\n",
    "(define (end-segment s)(cdr s))\n",
    "(define (midpoint-segment s)\n",
    "  (make-point (/ (+ (x-point (start-segement s))(x-point (end-segment s))) 2.0)\n",
    "              (/ (+ (y-point (start-segement s))(y-point (end-segment s))) 2.0)))\n",
    "(define (print-point p)\n",
    "  (newline)\n",
    "  (display \"(\")\n",
    "  (display (x-point p))\n",
    "  (display \",\")\n",
    "  (display (y-point p)))"
   ]
  },
  {
   "cell_type": "markdown",
   "metadata": {},
   "source": [
    "**Exercise 2.3**"
   ]
  },
  {
   "cell_type": "code",
   "execution_count": 37,
   "metadata": {
    "collapsed": true
   },
   "outputs": [],
   "source": [
    "(define (make-rectangle bottom-left top-right)(cons bottom-left top-right))\n",
    "(define (bottom-left rect)(car rect))\n",
    "(define (top-right rect)(cdr rect))\n",
    "(define (bottom-right rect)(make-point (x-point (top-right rect)) (y-point (bottom-left rect))))\n",
    "(define (top-left rect)(make-point (x-point (bottom-left rect)(y-point (top-right rect)))))\n",
    "(define (width rect) (- (x-point (top-right rect)) (x-point (bottom-left rect))))\n",
    "(define (height rect) (- (y-point (top-right rect)) (y-point (bottom-left rect))))\n",
    "(define (area rect)(* (width rect) (height rect)))\n",
    "(define (perimeter rect)(* (+ (width rect)(height rect)) 2))"
   ]
  },
  {
   "cell_type": "markdown",
   "metadata": {},
   "source": [
    "**Exercise 2.4**"
   ]
  },
  {
   "cell_type": "code",
   "execution_count": 42,
   "metadata": {
    "collapsed": true
   },
   "outputs": [],
   "source": [
    "(define (cons x y)\n",
    "  (lambda (m) (m x y)))\n",
    "(define (car z)\n",
    "  (z (lambda (p q) p)))\n",
    "(define (cdr z)\n",
    "  (z (lambda (p q) q)))"
   ]
  },
  {
   "cell_type": "code",
   "execution_count": 43,
   "metadata": {
    "collapsed": false
   },
   "outputs": [
    {
     "data": {
      "text/plain": [
       "1"
      ]
     },
     "execution_count": 43,
     "metadata": {},
     "output_type": "execute_result"
    }
   ],
   "source": [
    "(car (cons 1 2))"
   ]
  },
  {
   "cell_type": "code",
   "execution_count": 44,
   "metadata": {
    "collapsed": false
   },
   "outputs": [
    {
     "data": {
      "text/plain": [
       "2"
      ]
     },
     "execution_count": 44,
     "metadata": {},
     "output_type": "execute_result"
    }
   ],
   "source": [
    "(cdr (cons 1 2))"
   ]
  },
  {
   "cell_type": "markdown",
   "metadata": {},
   "source": [
    "**Exercise 2.6**"
   ]
  },
  {
   "cell_type": "code",
   "execution_count": 47,
   "metadata": {
    "collapsed": true
   },
   "outputs": [],
   "source": [
    "(define zero (lambda (f) (lambda (x) x)))\n",
    "(define (add-1 n)\n",
    "  (lambda (f) (lambda (x) (f ((n f) x )))))"
   ]
  },
  {
   "cell_type": "code",
   "execution_count": 51,
   "metadata": {
    "collapsed": false
   },
   "outputs": [],
   "source": [
    "(define one (lambda (f) (lambda (x) (f x)))) \n",
    "(define two (lambda (f) (lambda (x) (f (f x))))) "
   ]
  },
  {
   "cell_type": "code",
   "execution_count": 52,
   "metadata": {
    "collapsed": false
   },
   "outputs": [
    {
     "data": {
      "text/plain": [
       "4"
      ]
     },
     "execution_count": 52,
     "metadata": {},
     "output_type": "execute_result"
    }
   ],
   "source": [
    "(define (square x)(* x x))\n",
    "((one square) 2)"
   ]
  },
  {
   "cell_type": "code",
   "execution_count": 53,
   "metadata": {
    "collapsed": false
   },
   "outputs": [
    {
     "data": {
      "text/plain": [
       "16"
      ]
     },
     "execution_count": 53,
     "metadata": {},
     "output_type": "execute_result"
    }
   ],
   "source": [
    "((two square) 2)"
   ]
  },
  {
   "cell_type": "markdown",
   "metadata": {},
   "source": [
    "**Exercise 2.7**"
   ]
  },
  {
   "cell_type": "code",
   "execution_count": 56,
   "metadata": {
    "collapsed": true
   },
   "outputs": [],
   "source": [
    "(define (make-interval a b)(cons a b))\n",
    "(define (upper-bound interval)(car interval))\n",
    "(define (lower-bound interval)(cdr interval))\n",
    "(define (add-interval x y)\n",
    "  (make-interval (+ (lower-bound x)(lower-bound y))\n",
    "                 (+ (upper-bound x)(upper-bound y))))\n",
    "(define (mul-interval x y)\n",
    "  (let ((p1 (* (lower-bound x)(lower-bound y)))\n",
    "        (p2 (* (lower-bound x)(upper-bound y)))\n",
    "        (p3 (* (upper-bound x)(lower-bound y)))\n",
    "        (p4 (* (upper-bound x)(upper-bound y))))\n",
    "    (make-interval (min p1 p2 p3 p4)\n",
    "                   (max p1 p2 p3 p4))))\n",
    "(define (div-interval x y)\n",
    "  (mul-interval x (make-interval (/ 1.0 (upper-bound y))\n",
    "                                 (/ 1.0 (lower-bound y)))))"
   ]
  },
  {
   "cell_type": "markdown",
   "metadata": {},
   "source": [
    "**Exercise 2.8**"
   ]
  },
  {
   "cell_type": "code",
   "execution_count": 57,
   "metadata": {
    "collapsed": true
   },
   "outputs": [],
   "source": [
    "(define (sub-interval x y)\n",
    "  (make-interval (- (lower-bound x)(upper-bound y))\n",
    "                 (- (upper-bound x)(lower-bound y))))"
   ]
  },
  {
   "cell_type": "markdown",
   "metadata": {},
   "source": [
    "**Exercise 2.9**"
   ]
  },
  {
   "cell_type": "code",
   "execution_count": 58,
   "metadata": {
    "collapsed": true
   },
   "outputs": [],
   "source": [
    "(define (width x)\n",
    "  (/ (- (upper-bound x)(lower-bound y)) 2.0))"
   ]
  },
  {
   "cell_type": "markdown",
   "metadata": {},
   "source": [
    "**Example**"
   ]
  },
  {
   "cell_type": "code",
   "execution_count": 66,
   "metadata": {
    "collapsed": true
   },
   "outputs": [],
   "source": [
    "(define (make-center-width c w)\n",
    "  (make-interval (- c w)(+ c w)))\n",
    "(define (center i)\n",
    "  (/ (+ (lower-bound i)(upper-bound i)) 2.0))\n",
    "(define (width i)\n",
    "  (/ (- (upper-bound i)(lower-bound i)) 2.0))"
   ]
  },
  {
   "cell_type": "markdown",
   "metadata": {},
   "source": [
    "**Exercise 2.12**"
   ]
  },
  {
   "cell_type": "code",
   "execution_count": 68,
   "metadata": {
    "collapsed": true
   },
   "outputs": [],
   "source": [
    "(define (make-center-percent c p)\n",
    "  (let (w (* c p))\n",
    "      (make-center-width c w)))\n",
    "(define (percent i)\n",
    "  (/ ((upper-bound i)(center i)) (center i)))"
   ]
  },
  {
   "cell_type": "markdown",
   "metadata": {},
   "source": [
    "**Example**\n",
    "$$\\frac{R_1R_2}{R_1+R_2}$$\n",
    "\n",
    "$$\\frac{1}{\\frac{1}{R_1} + \\frac{1}{R_2}}$$"
   ]
  },
  {
   "cell_type": "code",
   "execution_count": 70,
   "metadata": {
    "collapsed": true
   },
   "outputs": [],
   "source": [
    "(define (par1 r1 r2)\n",
    "  (div-interval (mul-interval r1 r2)\n",
    "                (add-interval r1 r2)))"
   ]
  },
  {
   "cell_type": "code",
   "execution_count": 71,
   "metadata": {
    "collapsed": true
   },
   "outputs": [],
   "source": [
    "(define (par2 r1 r2)\n",
    "  (let ((one (make-interval 1 1)))\n",
    "    (div-interval one\n",
    "                  (add-interval (div-interval one r1)\n",
    "                                (div-interval one r2)))))"
   ]
  }
 ],
 "metadata": {
  "kernelspec": {
   "display_name": "Calysto Scheme 3",
   "language": "scheme",
   "name": "calysto_scheme"
  },
  "language_info": {
   "codemirror_mode": {
    "name": "scheme"
   },
   "mimetype": "text/x-scheme",
   "name": "scheme",
   "pygments_lexer": "scheme"
  }
 },
 "nbformat": 4,
 "nbformat_minor": 2
}
