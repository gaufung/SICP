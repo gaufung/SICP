{
 "cells": [
  {
   "cell_type": "markdown",
   "metadata": {},
   "source": [
    "**Example**"
   ]
  },
  {
   "cell_type": "code",
   "execution_count": 1,
   "metadata": {
    "collapsed": false
   },
   "outputs": [],
   "source": [
    "(define a 1)\n",
    "(define b 2)"
   ]
  },
  {
   "cell_type": "code",
   "execution_count": 2,
   "metadata": {
    "collapsed": false
   },
   "outputs": [
    {
     "data": {
      "text/plain": [
       "(1 2)"
      ]
     },
     "execution_count": 2,
     "metadata": {},
     "output_type": "execute_result"
    }
   ],
   "source": [
    "(list a b)"
   ]
  },
  {
   "cell_type": "code",
   "execution_count": 3,
   "metadata": {
    "collapsed": false
   },
   "outputs": [
    {
     "data": {
      "text/plain": [
       "(a b)"
      ]
     },
     "execution_count": 3,
     "metadata": {},
     "output_type": "execute_result"
    }
   ],
   "source": [
    "(list 'a 'b)"
   ]
  },
  {
   "cell_type": "code",
   "execution_count": 4,
   "metadata": {
    "collapsed": false
   },
   "outputs": [
    {
     "data": {
      "text/plain": [
       "(a 2)"
      ]
     },
     "execution_count": 4,
     "metadata": {},
     "output_type": "execute_result"
    }
   ],
   "source": [
    "(list 'a b)"
   ]
  },
  {
   "cell_type": "code",
   "execution_count": 5,
   "metadata": {
    "collapsed": false
   },
   "outputs": [
    {
     "data": {
      "text/plain": [
       "a"
      ]
     },
     "execution_count": 5,
     "metadata": {},
     "output_type": "execute_result"
    }
   ],
   "source": [
    "(car '(a b c))"
   ]
  },
  {
   "cell_type": "code",
   "execution_count": 6,
   "metadata": {
    "collapsed": false
   },
   "outputs": [
    {
     "data": {
      "text/plain": [
       "(b c)"
      ]
     },
     "execution_count": 6,
     "metadata": {},
     "output_type": "execute_result"
    }
   ],
   "source": [
    "(cdr '(a b c))"
   ]
  },
  {
   "cell_type": "markdown",
   "metadata": {},
   "source": [
    "**Example**"
   ]
  },
  {
   "cell_type": "code",
   "execution_count": 7,
   "metadata": {
    "collapsed": true
   },
   "outputs": [],
   "source": [
    "(define (memq item x)\n",
    "  (cond ((null? x) #f)\n",
    "        ((eq? item (car x)) x)\n",
    "        (else (memq item (cdr x)))))"
   ]
  },
  {
   "cell_type": "code",
   "execution_count": 8,
   "metadata": {
    "collapsed": false
   },
   "outputs": [
    {
     "data": {
      "text/plain": [
       "#f"
      ]
     },
     "execution_count": 8,
     "metadata": {},
     "output_type": "execute_result"
    }
   ],
   "source": [
    "(memq 'apple '(pear banana prune))"
   ]
  },
  {
   "cell_type": "code",
   "execution_count": 9,
   "metadata": {
    "collapsed": false
   },
   "outputs": [
    {
     "data": {
      "text/plain": [
       "(apple pear)"
      ]
     },
     "execution_count": 9,
     "metadata": {},
     "output_type": "execute_result"
    }
   ],
   "source": [
    "(memq 'apple '(x (apple sauce) y apple pear))"
   ]
  },
  {
   "cell_type": "markdown",
   "metadata": {},
   "source": [
    "**Exercise 2.53**"
   ]
  },
  {
   "cell_type": "code",
   "execution_count": 10,
   "metadata": {
    "collapsed": false
   },
   "outputs": [
    {
     "data": {
      "text/plain": [
       "(a b c)"
      ]
     },
     "execution_count": 10,
     "metadata": {},
     "output_type": "execute_result"
    }
   ],
   "source": [
    "(list 'a 'b 'c)"
   ]
  },
  {
   "cell_type": "code",
   "execution_count": 11,
   "metadata": {
    "collapsed": false
   },
   "outputs": [
    {
     "data": {
      "text/plain": [
       "((george))"
      ]
     },
     "execution_count": 11,
     "metadata": {},
     "output_type": "execute_result"
    }
   ],
   "source": [
    "(list (list 'george))"
   ]
  },
  {
   "cell_type": "code",
   "execution_count": 12,
   "metadata": {
    "collapsed": false
   },
   "outputs": [
    {
     "data": {
      "text/plain": [
       "((y1 y2))"
      ]
     },
     "execution_count": 12,
     "metadata": {},
     "output_type": "execute_result"
    }
   ],
   "source": [
    "(cdr '((x1 x2)(y1 y2)))"
   ]
  },
  {
   "cell_type": "code",
   "execution_count": 13,
   "metadata": {
    "collapsed": false
   },
   "outputs": [
    {
     "data": {
      "text/plain": [
       "(y1 y2)"
      ]
     },
     "execution_count": 13,
     "metadata": {},
     "output_type": "execute_result"
    }
   ],
   "source": [
    "(cadr '((x1 x2) (y1 y2)))"
   ]
  },
  {
   "cell_type": "code",
   "execution_count": 14,
   "metadata": {
    "collapsed": false
   },
   "outputs": [
    {
     "data": {
      "text/plain": [
       "#f"
      ]
     },
     "execution_count": 14,
     "metadata": {},
     "output_type": "execute_result"
    }
   ],
   "source": [
    "(pair? (car '(a short list)))"
   ]
  },
  {
   "cell_type": "code",
   "execution_count": 15,
   "metadata": {
    "collapsed": false
   },
   "outputs": [
    {
     "data": {
      "text/plain": [
       "#f"
      ]
     },
     "execution_count": 15,
     "metadata": {},
     "output_type": "execute_result"
    }
   ],
   "source": [
    "(memq 'red '((red shoes) (blue socks)))"
   ]
  },
  {
   "cell_type": "code",
   "execution_count": 16,
   "metadata": {
    "collapsed": false
   },
   "outputs": [
    {
     "data": {
      "text/plain": [
       "(red shoes blue socks)"
      ]
     },
     "execution_count": 16,
     "metadata": {},
     "output_type": "execute_result"
    }
   ],
   "source": [
    "(memq 'red '(red shoes blue socks))"
   ]
  },
  {
   "cell_type": "markdown",
   "metadata": {},
   "source": [
    "**Exercise 2.54**"
   ]
  },
  {
   "cell_type": "code",
   "execution_count": 17,
   "metadata": {
    "collapsed": true
   },
   "outputs": [],
   "source": [
    "(define (equal? list1 list2) \n",
    "   (cond ((and (not (pair? list1)) (not (pair? list2))) \n",
    "          (eq? list1 list2)) \n",
    "         ((and (pair? list1) (pair? list2)) \n",
    "          (and (equal? (car list1) (car list2)) (equal? (cdr list1) (cdr list2)))) \n",
    "         (else #f))) "
   ]
  },
  {
   "cell_type": "code",
   "execution_count": 18,
   "metadata": {
    "collapsed": false
   },
   "outputs": [
    {
     "data": {
      "text/plain": [
       "#t"
      ]
     },
     "execution_count": 18,
     "metadata": {},
     "output_type": "execute_result"
    }
   ],
   "source": [
    "(equal? '(1 2 3 (4 5) 6) '(1 2 3 (4 5) 6)) "
   ]
  },
  {
   "cell_type": "code",
   "execution_count": 19,
   "metadata": {
    "collapsed": false
   },
   "outputs": [
    {
     "data": {
      "text/plain": [
       "#f"
      ]
     },
     "execution_count": 19,
     "metadata": {},
     "output_type": "execute_result"
    }
   ],
   "source": [
    "(equal? '(1 2 3 (4 5) 6) '(1 2 3 (4 5 7) 6)) "
   ]
  },
  {
   "cell_type": "markdown",
   "metadata": {},
   "source": [
    "**Exercise 2.55**"
   ]
  },
  {
   "cell_type": "code",
   "execution_count": 20,
   "metadata": {
    "collapsed": false
   },
   "outputs": [
    {
     "data": {
      "text/plain": [
       "quote"
      ]
     },
     "execution_count": 20,
     "metadata": {},
     "output_type": "execute_result"
    }
   ],
   "source": [
    "(car ''abracadabra)"
   ]
  },
  {
   "cell_type": "markdown",
   "metadata": {},
   "source": [
    "**Example**"
   ]
  },
  {
   "cell_type": "code",
   "execution_count": 21,
   "metadata": {
    "collapsed": false
   },
   "outputs": [],
   "source": [
    "(define (deriv exp var) (cond ((number? exp) 0)\n",
    "((variable? exp) (if (same-variable? exp var) 1 0)) ((sum? exp) (make-sum (deriv (addend exp) var)\n",
    "                              (deriv (augend exp) var)))\n",
    "        ((product? exp)\n",
    "         (make-sum\n",
    "           (make-product (multiplier exp)\n",
    "                         (deriv (multiplicand exp) var))\n",
    "           (make-product (deriv (multiplier exp) var)\n",
    "                         (multiplicand exp))))\n",
    "(else\n",
    "(display \"unknown expression type: DERIV\" exp))))"
   ]
  },
  {
   "cell_type": "code",
   "execution_count": 22,
   "metadata": {
    "collapsed": true
   },
   "outputs": [],
   "source": [
    "(define (variable? x) (symbol? x))"
   ]
  },
  {
   "cell_type": "code",
   "execution_count": 23,
   "metadata": {
    "collapsed": true
   },
   "outputs": [],
   "source": [
    "(define (same-variable? v1 v2)\n",
    "(and (variable? v1) (variable? v2) (eq? v1 v2)))"
   ]
  },
  {
   "cell_type": "code",
   "execution_count": 24,
   "metadata": {
    "collapsed": true
   },
   "outputs": [],
   "source": [
    "(define (make-sum a1 a2) (list '+ a1 a2)) \n",
    "(define (make-product m1 m2) (list '* m1 m2))\n"
   ]
  },
  {
   "cell_type": "code",
   "execution_count": 25,
   "metadata": {
    "collapsed": true
   },
   "outputs": [],
   "source": [
    "(define (sum? x) (and (pair? x) (eq? (car x) '+)))"
   ]
  },
  {
   "cell_type": "code",
   "execution_count": 26,
   "metadata": {
    "collapsed": true
   },
   "outputs": [],
   "source": [
    "(define (addend s) (cadr s))"
   ]
  },
  {
   "cell_type": "code",
   "execution_count": 27,
   "metadata": {
    "collapsed": true
   },
   "outputs": [],
   "source": [
    "(define (augend s) (caddr s))"
   ]
  },
  {
   "cell_type": "code",
   "execution_count": 28,
   "metadata": {
    "collapsed": true
   },
   "outputs": [],
   "source": [
    "(define (product? x) (and (pair? x) (eq? (car x) '*)))"
   ]
  },
  {
   "cell_type": "code",
   "execution_count": 29,
   "metadata": {
    "collapsed": false
   },
   "outputs": [],
   "source": [
    "(define (multiplier p) (cadr p))"
   ]
  },
  {
   "cell_type": "code",
   "execution_count": 30,
   "metadata": {
    "collapsed": true
   },
   "outputs": [],
   "source": [
    "(define (multiplicand p) (caddr p))"
   ]
  },
  {
   "cell_type": "code",
   "execution_count": 31,
   "metadata": {
    "collapsed": false
   },
   "outputs": [
    {
     "data": {
      "text/plain": [
       "(+ 1 0)"
      ]
     },
     "execution_count": 31,
     "metadata": {},
     "output_type": "execute_result"
    }
   ],
   "source": [
    "(deriv '(+ x 3) 'x)"
   ]
  },
  {
   "cell_type": "code",
   "execution_count": 32,
   "metadata": {
    "collapsed": false
   },
   "outputs": [
    {
     "data": {
      "text/plain": [
       "(+ (* (* x y) (+ 1 0)) (* (+ (* x 0) (* 1 y)) (+ x 3)))"
      ]
     },
     "execution_count": 32,
     "metadata": {},
     "output_type": "execute_result"
    }
   ],
   "source": [
    "(deriv '(* (* x y) (+ x 3)) 'x)"
   ]
  },
  {
   "cell_type": "code",
   "execution_count": 33,
   "metadata": {
    "collapsed": false
   },
   "outputs": [
    {
     "data": {
      "text/plain": [
       "(+ (* x 0) (* 1 y))"
      ]
     },
     "execution_count": 33,
     "metadata": {},
     "output_type": "execute_result"
    }
   ],
   "source": [
    "(deriv '(* x y) 'x)"
   ]
  },
  {
   "cell_type": "code",
   "execution_count": 34,
   "metadata": {
    "collapsed": false
   },
   "outputs": [],
   "source": [
    "(define (make-sum a1 a2)\n",
    "  (cond ((=number? a1 0) a2)\n",
    "        ((=number? a2 0) a1)\n",
    "        ((and (number? a1)(number? a2))\n",
    "         (+ a1 a2))\n",
    "        (else (list '+ a1 a2))))"
   ]
  },
  {
   "cell_type": "code",
   "execution_count": 35,
   "metadata": {
    "collapsed": true
   },
   "outputs": [],
   "source": [
    "(define (=number? exp num)(and (number? exp)(= exp num)))"
   ]
  },
  {
   "cell_type": "code",
   "execution_count": 36,
   "metadata": {
    "collapsed": true
   },
   "outputs": [],
   "source": [
    "(define (make-product m1 m2)\n",
    "  (cond ((or (=number? m1 0)(=number? m2 0)) 0)\n",
    "        ((=number? m1 1) m2)\n",
    "        ((=number? m2 1) m1)\n",
    "        ((and (number? m1)(number? m2))(* m1 m2))\n",
    "        (else (list '* m1 m2))))"
   ]
  },
  {
   "cell_type": "code",
   "execution_count": 37,
   "metadata": {
    "collapsed": false
   },
   "outputs": [
    {
     "data": {
      "text/plain": [
       "1"
      ]
     },
     "execution_count": 37,
     "metadata": {},
     "output_type": "execute_result"
    }
   ],
   "source": [
    "(deriv '(+ x 3) 'x)"
   ]
  },
  {
   "cell_type": "code",
   "execution_count": 38,
   "metadata": {
    "collapsed": false
   },
   "outputs": [
    {
     "data": {
      "text/plain": [
       "y"
      ]
     },
     "execution_count": 38,
     "metadata": {},
     "output_type": "execute_result"
    }
   ],
   "source": [
    "(deriv '(* x y) 'x)"
   ]
  },
  {
   "cell_type": "code",
   "execution_count": 39,
   "metadata": {
    "collapsed": false
   },
   "outputs": [
    {
     "data": {
      "text/plain": [
       "(+ (* x y) (* y (+ x 3)))"
      ]
     },
     "execution_count": 39,
     "metadata": {},
     "output_type": "execute_result"
    }
   ],
   "source": [
    "(deriv '(* (* x y) (+ x 3)) 'x)"
   ]
  },
  {
   "cell_type": "markdown",
   "metadata": {},
   "source": [
    "**Exercise 2.56**"
   ]
  },
  {
   "cell_type": "code",
   "execution_count": 40,
   "metadata": {
    "collapsed": false
   },
   "outputs": [],
   "source": [
    "(define (exponentition? x)\n",
    "  (and  (pair? x) (eq? (car x) '**)))"
   ]
  },
  {
   "cell_type": "code",
   "execution_count": 41,
   "metadata": {
    "collapsed": false
   },
   "outputs": [],
   "source": [
    "(define (base x) (cadr x))\n",
    "(define (exponent x) (caddr x))\n",
    "\n",
    "(define (make-exponentiation base exp) \n",
    "   (cond ((=number? base 1) 1) \n",
    "         ((=number? exp 1) base) \n",
    "         ((=number? exp 0) 1) \n",
    "         (else  \n",
    "          (list '** base exp)))) "
   ]
  },
  {
   "cell_type": "code",
   "execution_count": 42,
   "metadata": {
    "collapsed": false
   },
   "outputs": [],
   "source": [
    " (define (deriv exp var) \n",
    "   (cond ((number? exp) 0) \n",
    "         ((variable? exp) \n",
    "          (if (same-variable? exp var) 1 0)) \n",
    "         ((sum? exp) \n",
    "          (make-sum (deriv (addend exp) var) \n",
    "                    (deriv (augend exp) var))) \n",
    "         ((product? exp) \n",
    "          (make-sum \n",
    "            (make-product (multiplier exp) \n",
    "                          (deriv (multiplicand exp) var)) \n",
    "            (make-product (deriv (multiplier exp) var) \n",
    "                          (multiplicand exp)))) \n",
    "         ((exponentition? exp) \n",
    "          (make-product  \n",
    "               (make-product (exponent exp)  \n",
    "                      (make-exponentiation (base exp)  \n",
    "                            (if (number? (exponent exp))  \n",
    "                                 (- (exponent exp) 1) \n",
    "                                 (' (- (exponent exp) 1))))) \n",
    "               (deriv  (base exp) var))) \n",
    "         (else \n",
    "          (display \"unknown expression type -- DERIV\" exp)))) "
   ]
  },
  {
   "cell_type": "code",
   "execution_count": 43,
   "metadata": {
    "collapsed": false
   },
   "outputs": [
    {
     "data": {
      "text/plain": [
       "(* 4 (** x 3))"
      ]
     },
     "execution_count": 43,
     "metadata": {},
     "output_type": "execute_result"
    }
   ],
   "source": [
    "(deriv '(+ 5 (** x 4)) 'x)"
   ]
  },
  {
   "cell_type": "markdown",
   "metadata": {},
   "source": [
    "**Example**"
   ]
  },
  {
   "cell_type": "code",
   "execution_count": 44,
   "metadata": {
    "collapsed": true
   },
   "outputs": [],
   "source": [
    "(define (element-of-set? x set)\n",
    "  (cond ((null? set) #f)\n",
    "        ((equal? x (car set)) #t)\n",
    "        (else (element-of-set? x (cdr set)))))"
   ]
  },
  {
   "cell_type": "code",
   "execution_count": 45,
   "metadata": {
    "collapsed": true
   },
   "outputs": [],
   "source": [
    "(define (adjoin-set x set)\n",
    "  (if (element-of-set? x set)\n",
    "      set\n",
    "      (cons x set)))"
   ]
  },
  {
   "cell_type": "code",
   "execution_count": 46,
   "metadata": {
    "collapsed": true
   },
   "outputs": [],
   "source": [
    "(define (intersection-set set1 set2)\n",
    "  (cond ((or (null? set1)(null? set2)) '())\n",
    "        ((element-of-set? (car set1) set2)\n",
    "         (cons (car set1)\n",
    "               (intersection-set (cdr set1) set2)))\n",
    "        (else (intersection-set (cdr set1) set2))))"
   ]
  },
  {
   "cell_type": "markdown",
   "metadata": {},
   "source": [
    "**Exercise 2.59**"
   ]
  },
  {
   "cell_type": "code",
   "execution_count": 47,
   "metadata": {
    "collapsed": true
   },
   "outputs": [],
   "source": [
    "(define (union-set set1 set2)\n",
    "  (cond ((or (null? set1)(null? set2)) '())\n",
    "        ((not (element-of-set? (car set1) set2))\n",
    "         (cons (car set1)\n",
    "               (union-set (cdr set1) set2)))\n",
    "        (else (element-of-set? (cdr set1) set2))))"
   ]
  },
  {
   "cell_type": "markdown",
   "metadata": {},
   "source": [
    "**Exercise 2.60**"
   ]
  },
  {
   "cell_type": "code",
   "execution_count": 48,
   "metadata": {
    "collapsed": true
   },
   "outputs": [],
   "source": [
    "(define (my-element-of-set? x set)\n",
    "  (cond ((null? set) #f)\n",
    "        ((equal? x (car set)) #t)\n",
    "        (else (element-of-set? x (cdr set)))))"
   ]
  },
  {
   "cell_type": "code",
   "execution_count": 49,
   "metadata": {
    "collapsed": true
   },
   "outputs": [],
   "source": [
    "(define (my-adjoin-set x set)\n",
    "  (cons x set))"
   ]
  },
  {
   "cell_type": "code",
   "execution_count": 50,
   "metadata": {
    "collapsed": true
   },
   "outputs": [],
   "source": [
    "(define (my-intersection-set set1 set2)\n",
    "  (cond ((or (null? set1)(null? set2)) '())\n",
    "        ((element-of-set? (car set1) set2)\n",
    "         (cons (car set1)\n",
    "               (intersection-set (cdr set1) set2)))\n",
    "        (else (intersection-set (cdr set1) set2))))"
   ]
  },
  {
   "cell_type": "code",
   "execution_count": 51,
   "metadata": {
    "collapsed": true
   },
   "outputs": [],
   "source": [
    "(define (my-union-set set1 set2)\n",
    "  (cond ((or (null? set1)(null? set2)) '())\n",
    "        ((not (element-of-set? (car set1) set2))\n",
    "         (cons (car set1)\n",
    "               (union-set (cdr set1) set2)))\n",
    "        (else (element-of-set? (cdr set1) set2))))"
   ]
  },
  {
   "cell_type": "markdown",
   "metadata": {},
   "source": [
    "**Example**"
   ]
  },
  {
   "cell_type": "code",
   "execution_count": 52,
   "metadata": {
    "collapsed": true
   },
   "outputs": [],
   "source": [
    "(define (element-of-set? x set)\n",
    "  (cond ((null? set) #f)\n",
    "        ((= x (car set)) #t)\n",
    "        ((< x (car set)) #f)\n",
    "        (else (element-of-set? x (cdr set)))))"
   ]
  },
  {
   "cell_type": "code",
   "execution_count": 53,
   "metadata": {
    "collapsed": true
   },
   "outputs": [],
   "source": [
    "(define (itersection-set set1 set2)\n",
    "  (if (or (null? set1) (null? set2))\n",
    "      '()\n",
    "      (let ((x1 (car set1)) (x2 (car set2)))\n",
    "        (cond ((= x1 x2)\n",
    "              (cons x1\n",
    "                    (intersection-set (cdr set1)(cdr set2))))\n",
    "              ((< x1 x2)\n",
    "               (intersection-set (cdr set1) set2))\n",
    "              ((< x2 x1)\n",
    "               (intersection-set set1 (cdr set2)))))))"
   ]
  },
  {
   "cell_type": "markdown",
   "metadata": {},
   "source": [
    "**Exercise 2.61**"
   ]
  },
  {
   "cell_type": "code",
   "execution_count": 54,
   "metadata": {
    "collapsed": false
   },
   "outputs": [],
   "source": [
    "(define (adjoin-set x set) \n",
    "   (cond ((null? set) (list x)) \n",
    "         ((= x (car set)) set) \n",
    "         ((< x (car set)) (cons x set)) \n",
    "         (else (cons (car set) (adjoin-set x (cdr set)))))) "
   ]
  },
  {
   "cell_type": "code",
   "execution_count": 55,
   "metadata": {
    "collapsed": false
   },
   "outputs": [
    {
     "data": {
      "text/plain": [
       "(1 2 3)"
      ]
     },
     "execution_count": 55,
     "metadata": {},
     "output_type": "execute_result"
    }
   ],
   "source": [
    "(adjoin-set 2 (list 1 2 3))"
   ]
  },
  {
   "cell_type": "markdown",
   "metadata": {},
   "source": [
    "**Exercise 2.62**"
   ]
  },
  {
   "cell_type": "code",
   "execution_count": 56,
   "metadata": {
    "collapsed": false
   },
   "outputs": [],
   "source": [
    "(define (union-set set1 set2)\n",
    "  (cond ((and (null? set1) (null? set2)) '())\n",
    "        ((null? set1) set2)\n",
    "        ((null? set2) set1)\n",
    "        (else\n",
    "         (let ((x1 (car set1))(x2 (car set2)))\n",
    "            (cond ((= x1 x2)\n",
    "               (cons x1 (union-set (cdr set1) (cdr set2))))\n",
    "              ((< x1 x2)\n",
    "               (cons x1 (union-set (cdr set1) set2)))\n",
    "              ((> x1 x2)\n",
    "               (cons x2 (union-set set1 (cdr set2)))))))))"
   ]
  },
  {
   "cell_type": "code",
   "execution_count": 57,
   "metadata": {
    "collapsed": false
   },
   "outputs": [
    {
     "data": {
      "text/plain": [
       "(1 2 4)"
      ]
     },
     "execution_count": 57,
     "metadata": {},
     "output_type": "execute_result"
    }
   ],
   "source": [
    "(union-set (list 1 2) (list 2 4))"
   ]
  },
  {
   "cell_type": "markdown",
   "metadata": {},
   "source": [
    "**Example**"
   ]
  },
  {
   "cell_type": "code",
   "execution_count": 58,
   "metadata": {
    "collapsed": true
   },
   "outputs": [],
   "source": [
    "(define (entry tree)(car tree))\n",
    "(define (left-branch tree) (cadr tree))\n",
    "(define (right-branch tree) (caddr tree))\n",
    "(define (make-tree entry left right)\n",
    "  (list entry left right))"
   ]
  },
  {
   "cell_type": "code",
   "execution_count": 59,
   "metadata": {
    "collapsed": true
   },
   "outputs": [],
   "source": [
    "(define (element-of-set? x set)\n",
    "  (cond ((null? set) #f)\n",
    "        ((= x (entry set) #t))\n",
    "        ((< x (entry set))\n",
    "         (element-of-set? x (left-branch set)))\n",
    "        ((> x (entry set))\n",
    "         (element-of-set? x (right-branch set)))))"
   ]
  },
  {
   "cell_type": "code",
   "execution_count": 60,
   "metadata": {
    "collapsed": true
   },
   "outputs": [],
   "source": [
    "(define (adjoin-set x set)\n",
    "  (cond ((null? set)(make-tree x '() '()))\n",
    "        ((= x (entry set)) set)\n",
    "        ((< x (entry set))\n",
    "         (make-tree (entry set)\n",
    "                    (adjoin-set x (left-branch set))\n",
    "                    (right-branch set)))\n",
    "        ((> x (entry set))\n",
    "         (make-tree (entry set)\n",
    "                    (left-branch set)\n",
    "                    (adjoin-set x (right-branch set))))))\n",
    "        "
   ]
  },
  {
   "cell_type": "markdown",
   "metadata": {},
   "source": [
    "**Exercise 2.63**"
   ]
  },
  {
   "cell_type": "code",
   "execution_count": 61,
   "metadata": {
    "collapsed": true
   },
   "outputs": [],
   "source": [
    "(define (tree->list-1 tree)\n",
    "  (if (null? tree)\n",
    "      '()\n",
    "      (append (tree->list-1 (left-branch tree))\n",
    "              (cons (entry tree)\n",
    "                    (tree->list-1 (right-branch tree)\n",
    "                                  )\n",
    "                    )\n",
    "              )\n",
    "      )\n",
    "  )"
   ]
  },
  {
   "cell_type": "code",
   "execution_count": 62,
   "metadata": {
    "collapsed": true
   },
   "outputs": [],
   "source": [
    "(define (tree->list-2 tree)\n",
    "  (define (copy-to-list tree result-list)\n",
    "    (if (null? tree)\n",
    "        result-list\n",
    "        (copy-to-list (left-branch tree)\n",
    "                      (cons (entry tree)\n",
    "                            (copy-to-list (right-branch tree)\n",
    "                                          result-list)\n",
    "                            )\n",
    "                      )\n",
    "        )\n",
    "    )\n",
    "  (copy-to-list tree '())\n",
    "  )"
   ]
  },
  {
   "cell_type": "code",
   "execution_count": 63,
   "metadata": {
    "collapsed": true
   },
   "outputs": [],
   "source": [
    "(define tree (make-tree 5 '() '()))"
   ]
  },
  {
   "cell_type": "code",
   "execution_count": 64,
   "metadata": {
    "collapsed": false
   },
   "outputs": [],
   "source": [
    "(define tree (adjoin-set 4 tree))\n",
    "(define tree (adjoin-set 6 tree))\n",
    "(define tree (adjoin-set 2 tree))\n",
    "(define tree (adjoin-set 7 tree))\n",
    "(define tree (adjoin-set 9 tree))"
   ]
  },
  {
   "cell_type": "code",
   "execution_count": 65,
   "metadata": {
    "collapsed": false
   },
   "outputs": [
    {
     "data": {
      "text/plain": [
       "(2 4 5 6 7 9)"
      ]
     },
     "execution_count": 65,
     "metadata": {},
     "output_type": "execute_result"
    }
   ],
   "source": [
    "(tree->list-1 tree)"
   ]
  },
  {
   "cell_type": "code",
   "execution_count": 66,
   "metadata": {
    "collapsed": false
   },
   "outputs": [
    {
     "data": {
      "text/plain": [
       "(2 4 5 6 7 9)"
      ]
     },
     "execution_count": 66,
     "metadata": {},
     "output_type": "execute_result"
    }
   ],
   "source": [
    "(tree->list-2 tree)"
   ]
  },
  {
   "cell_type": "markdown",
   "metadata": {
    "collapsed": true
   },
   "source": [
    "**Exercise 2.64**"
   ]
  },
  {
   "cell_type": "code",
   "execution_count": 72,
   "metadata": {
    "collapsed": true
   },
   "outputs": [],
   "source": [
    "(define (list->tree elements)\n",
    "  (car (partial-tree elements (length elements))))\n",
    "(define (partial-tree elts n)\n",
    "  (if (= n 0)\n",
    "      (cons '() elts)\n",
    "      (let ((left-size (quotient (- n 1) 2)))\n",
    "        (let ((left-result (partial-tree elts left-size)))\n",
    "          (let ((left-tree (car left-result))\n",
    "                (non-left-elts (cdr left-result))\n",
    "                (right-size (- n (+ left-size 1))))\n",
    "            (let ((this-entry (car non-left-elts))\n",
    "                  (right-result (partial-tree (cdr non-left-elts)\n",
    "                                              right-size)))\n",
    "              (let ((right-tree (car right-result))\n",
    "                    (remining-elts (cdr right-result)))\n",
    "                (cons (make-tree this-entry left-tree right-tree)\n",
    "                    remining-elts))))))))"
   ]
  },
  {
   "cell_type": "code",
   "execution_count": 73,
   "metadata": {
    "collapsed": false
   },
   "outputs": [
    {
     "data": {
      "text/plain": [
       "(5 (1 () (3 () ())) (9 (7 () ()) (11 () ())))"
      ]
     },
     "execution_count": 73,
     "metadata": {},
     "output_type": "execute_result"
    }
   ],
   "source": [
    "(list->tree (list 1 3 5 7 9 11))"
   ]
  },
  {
   "cell_type": "markdown",
   "metadata": {},
   "source": [
    "**Exercise 2.65**"
   ]
  },
  {
   "cell_type": "code",
   "execution_count": 74,
   "metadata": {
    "collapsed": true
   },
   "outputs": [],
   "source": [
    "(define (union-set tree1 tree2) \n",
    "   (list->tree (union-set-list (tree->list2 tree1) \n",
    "                          (tree->list2 tree2)))) \n",
    "  \n",
    " (define (intersection-set tree1 tree2) \n",
    "   (list->tree (intersection-set-list (tree->list2 tree1) \n",
    "                                 (tree->list2 tree2)))) "
   ]
  },
  {
   "cell_type": "markdown",
   "metadata": {},
   "source": [
    "**Exercise 2.66**"
   ]
  },
  {
   "cell_type": "code",
   "execution_count": 75,
   "metadata": {
    "collapsed": true
   },
   "outputs": [],
   "source": [
    "(define (lookup x tree)\n",
    "  (cond ((null? tree) #f)\n",
    "        ((equal? x (entry tree)) #t)\n",
    "        ((> x (entry tree)) (lookup x (right-branch tree)))\n",
    "        (else (lookup x (left-branch tree)))))"
   ]
  }
 ],
 "metadata": {
  "kernelspec": {
   "display_name": "Calysto Scheme 3",
   "language": "scheme",
   "name": "calysto_scheme"
  },
  "language_info": {
   "codemirror_mode": {
    "name": "scheme"
   },
   "mimetype": "text/x-scheme",
   "name": "scheme",
   "pygments_lexer": "scheme"
  }
 },
 "nbformat": 4,
 "nbformat_minor": 2
}
