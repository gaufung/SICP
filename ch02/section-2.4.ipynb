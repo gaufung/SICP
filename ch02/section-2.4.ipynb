{
 "cells": [
  {
   "cell_type": "markdown",
   "metadata": {},
   "source": [
    "**Example**"
   ]
  },
  {
   "cell_type": "code",
   "execution_count": 1,
   "metadata": {
    "collapsed": false
   },
   "outputs": [],
   "source": [
    "(define (add-complex z1 z2)\n",
    "  (make-from-real-imag (+ (real-part z1) (real-part z2))\n",
    "                       (+ (imag-part z1) (imag-part z2))))\n",
    "(define (sub-complex z1 z2)\n",
    "  (make-from-real-imag (- (real-part z1) (real-part z2))\n",
    "                       (- (imag-part z1) (imag-part z2))))\n",
    "(define (mul-complex z1 z2)\n",
    "  (make-from-mag-ang (* (magnitude z1) (magnitude z2))\n",
    "                       (+ (angle z1) (angle z2))))\n",
    "(define (div-complex z1 z2)\n",
    "  (make-from-mag-ang (/ (magnitude z1) (magnitude z2))\n",
    "                     (- (angle z1) (angle z2))))"
   ]
  },
  {
   "cell_type": "code",
   "execution_count": 2,
   "metadata": {
    "collapsed": false
   },
   "outputs": [],
   "source": [
    "(define (real-part z) (car z))\n",
    "(define (imag-part z) (cdr z))\n",
    "(define (magnitude z)\n",
    "  (define (square x)(* x x))\n",
    "  (sqrt (+ (square (real-part z)) (square (imag-part z)))))\n",
    "(define (angle z)\n",
    "  (atan (imag-part z) (real-part z)))\n",
    "(define (make-from-real-imag x y)(cons x y))\n",
    "(define (make-from-mag-ang r a)\n",
    "  (cons (* r (cos a)) (* r (sin a))))"
   ]
  },
  {
   "cell_type": "code",
   "execution_count": 3,
   "metadata": {
    "collapsed": false
   },
   "outputs": [],
   "source": [
    "(define (real-part z)\n",
    "  (* (magnitude z)(cos (angle z))))\n",
    "(define (imag-part z)\n",
    "  (* (magnitude z)(sin (angle z))))\n",
    "(define (magnitude z)(car z))\n",
    "(define (angle z) (cdr z))\n",
    "(define (make-from-real-imag x y)\n",
    "  (define (square x)(* x x))\n",
    "  (cons (sqrt (+ (square x)(square y))) (atan y x)))\n",
    "(define (make-from-mag-ang r a)(cons r a))"
   ]
  },
  {
   "cell_type": "markdown",
   "metadata": {
    "collapsed": false
   },
   "source": [
    "**Example**"
   ]
  },
  {
   "cell_type": "code",
   "execution_count": 4,
   "metadata": {
    "collapsed": true
   },
   "outputs": [],
   "source": [
    "(define (attach-tag type-tag content)\n",
    "  (cons type-tag content))"
   ]
  },
  {
   "cell_type": "code",
   "execution_count": 5,
   "metadata": {
    "collapsed": true
   },
   "outputs": [],
   "source": [
    "(define (type-tag datum)\n",
    "  (if (pair? datum)\n",
    "      (car datum)\n",
    "      (display \"bad Tagged datum\")))"
   ]
  },
  {
   "cell_type": "code",
   "execution_count": 6,
   "metadata": {
    "collapsed": true
   },
   "outputs": [],
   "source": [
    "(define (contents datum)\n",
    "  (if (pair? datum)\n",
    "      (cdr datum)\n",
    "      (display \"bad tagged datum\")))"
   ]
  },
  {
   "cell_type": "code",
   "execution_count": 7,
   "metadata": {
    "collapsed": true
   },
   "outputs": [],
   "source": [
    "(define (rectangular? z)\n",
    "  (eq? (type-tag z) 'rectangular))\n",
    "(define (polar? z)\n",
    "  (eq? (type-tag z) 'polar))"
   ]
  },
  {
   "cell_type": "code",
   "execution_count": 8,
   "metadata": {
    "collapsed": true
   },
   "outputs": [],
   "source": [
    "(define (real-part-rectangle z)(car z))\n",
    "(define (imag-part-rectangle z)(cdr z))"
   ]
  },
  {
   "cell_type": "markdown",
   "metadata": {},
   "source": [
    "**Example**"
   ]
  },
  {
   "cell_type": "code",
   "execution_count": 11,
   "metadata": {
    "collapsed": false
   },
   "outputs": [],
   "source": [
    "(define (install-rectangular-package)\n",
    "  (define (real-part z)(car z))\n",
    "  (define (imag-part z)(cdr z))\n",
    "  (define (make-from-real-imag x y)(cons x y))\n",
    "  (define (magnitude z)\n",
    "    (sqrt (+ (* (real-part z)(real-part z))\n",
    "             (* (imag-part z)(imag-part z)))))\n",
    "  (define (angle z)\n",
    "    (atan (imag-part z)(real-part z)))\n",
    "  (define (make-from-mag-ang r a)\n",
    "    (cons (* r (cos a)) (* r (sin a))))\n",
    "  (define (tag x)(attach-tag 'rectangular x))\n",
    "  (put 'real-part '(rectangular) real-part)\n",
    "  (put 'imag-part '(rectangular) imag-part)\n",
    "  (put 'magnitude '(rectangular) magnitude)\n",
    "  (put 'angle '(rectangular) angle)\n",
    "  (put 'make-from-real-imag 'rectangular\n",
    "       (lambda (x y)(tag (make-from-real-imag x y))))\n",
    "  (put 'make-from-mag-ang 'rectangular\n",
    "       (lambda (r a)(tag (make-from-mag-ang r a))))\n",
    "  'done)"
   ]
  },
  {
   "cell_type": "code",
   "execution_count": 12,
   "metadata": {
    "collapsed": true
   },
   "outputs": [],
   "source": [
    "(define (install-polar-package)\n",
    "  (define (magnitude z)(car z))\n",
    "  (define (angle z)(cdr z))\n",
    "  (define (make-from-mag-ang r a)(cons r a))\n",
    "  (define (real-part z)\n",
    "    (* (magnitude z)(cos (angle z))))\n",
    "  (define (imag-part z)\n",
    "    (* (magnitude z)(sin (angle z))))\n",
    "  (define (make-from-real-image x y)\n",
    "    (cons (sqrt (+ (* x x) (* y y)))\n",
    "          (atan y x)))\n",
    "  (define (tag x)(attach-tag 'polar x))\n",
    "  (put 'real-part '(polar) real-part)\n",
    "  (put 'imag-part '(polar) imag-part)\n",
    "  (put 'magnitude '(polar) magnitude)\n",
    "  (put 'angle '(polar) angle)\n",
    "  (put 'make-from-real-imag 'polar\n",
    "       (lambda (x y)(tag (make-from-real-imag x y))))\n",
    "  (put 'make-from-mag-ang 'polar\n",
    "       (lambda (r a)(tag (make-from-mag-ang r a))))\n",
    "  'done)"
   ]
  },
  {
   "cell_type": "code",
   "execution_count": 13,
   "metadata": {
    "collapsed": true
   },
   "outputs": [],
   "source": [
    "(define (apply-generic op . args)\n",
    "  (let ((type-tags (map type-tag args)))\n",
    "    (let ((proc (get op type-tags)))\n",
    "      (if proc\n",
    "          (apply proc (map contents args))\n",
    "          (display\n",
    "           \"no method for these type\")))))"
   ]
  },
  {
   "cell_type": "code",
   "execution_count": 14,
   "metadata": {
    "collapsed": true
   },
   "outputs": [],
   "source": [
    "(define (real-part z)(apply-generic 'real-part z))\n",
    "(define (imag-part z)(apply-generic 'imag-part z))\n",
    "(define (magnitude z)(apply-generic 'magnitude z))\n",
    "(define (angle z)(apply-generic 'angle z))"
   ]
  },
  {
   "cell_type": "code",
   "execution_count": 15,
   "metadata": {
    "collapsed": true
   },
   "outputs": [],
   "source": [
    "(define (make-from-real-imag x y)\n",
    "  ((get 'make-from-real-imag 'rectangular) x y))\n",
    "(define (make-from-mag-ang r a)\n",
    "  ((get 'make-from-mag-ang 'polar) r a))"
   ]
  },
  {
   "cell_type": "markdown",
   "metadata": {},
   "source": [
    "**Exercise 2.73**"
   ]
  },
  {
   "cell_type": "code",
   "execution_count": 16,
   "metadata": {
    "collapsed": true
   },
   "outputs": [],
   "source": [
    "(define (deriv exp var)\n",
    "  (cond ((number? exp) 0)\n",
    "        ((variable? exp)(if (same-variable? exp var) 1 0))\n",
    "        ((sum? exp)\n",
    "         (make-sum (deriv (addend exp) var)\n",
    "                   (deriv (augend exp) var)))\n",
    "        ((product? exp)\n",
    "         (make-sum\n",
    "          (make-product (multiplier exp)\n",
    "                        (deriv (multiplicand exp) var))\n",
    "          (make-product (derive (multiplier exp) var)\n",
    "                        (multiplicand exp))))\n",
    "        (else (display \"unknown expression\"))))"
   ]
  },
  {
   "cell_type": "code",
   "execution_count": 19,
   "metadata": {
    "collapsed": false
   },
   "outputs": [],
   "source": [
    "(define table (list )) \n",
    "(define (put op type proc) \n",
    "  (set! table (append table (list (list op type proc)))) \n",
    ") \n",
    "(define (get op type) \n",
    "  (define (search op type t) \n",
    "   (cond ((null? t) #f) \n",
    "    ((and (eqv? (caar t) op) (eqv? (cadar t) type)) \n",
    "         (caddar t) \n",
    "    ) \n",
    "    (else (search op type (cdr t))) \n",
    "   ) \n",
    "  ) \n",
    "  (search op type table) \n",
    ")"
   ]
  },
  {
   "cell_type": "code",
   "execution_count": 21,
   "metadata": {
    "collapsed": false
   },
   "outputs": [],
   "source": [
    "(define (install-sum-package) \n",
    "   (define (make-sum a1 a2) (cons a1 a2)) \n",
    "   (define (addend s) (cadr s)) \n",
    "   (define (augend s) (caddr s)) \n",
    "   (define (deriv-sum s) \n",
    "     (make-sum (deriv (addend s)) (deriv (augend s)))) \n",
    "  \n",
    "   (define (tag x) (attach-tag '+ x)) \n",
    "   (put 'deriv '(+) deriv-sum) \n",
    "   (put 'make-sum '+ \n",
    "        (lambda (x y) (tag (make-sum x y)))) \n",
    "   'done) \n",
    "  \n",
    " (define (make-sum x y) \n",
    "   ((get 'make-sum '+) x y)) \n",
    "  \n",
    " (define (install-product-package) \n",
    "   (define (make-product m1 m2) (cons m1 m2)) \n",
    "   (define (multiplier p) (cadr p)) \n",
    "   (define (multiplicand p) (caddr p)) \n",
    "   (define (deriv-product p) \n",
    "     (make-sum \n",
    "      (make-product (multiplier exp) \n",
    "                    (deriv (multiplicand exp) var)) \n",
    "      (make-product (deriv (multiplier exp) var) \n",
    "                    (multiplicand exp)))) \n",
    "  \n",
    "   (define (tag x) (attach-tag '* x)) \n",
    "   (put 'deriv '(*) deriv-product) \n",
    "   (put 'make-product '* \n",
    "        (lambda (x y) (tag (make-product x y)))) \n",
    "   'done) \n",
    "  \n",
    " (define (make-product x y) \n",
    "   ((get 'make-product '*) x y)) \n",
    "  \n",
    " (define (deriv x) (apply-generic 'deriv x)) "
   ]
  },
  {
   "cell_type": "markdown",
   "metadata": {},
   "source": [
    "**Example**"
   ]
  },
  {
   "cell_type": "code",
   "execution_count": 27,
   "metadata": {
    "collapsed": true
   },
   "outputs": [],
   "source": [
    "(define (make-from-real-imag x y)\n",
    "  (define (dispatch op)\n",
    "    (cond ((eq? op 'real-part) x)\n",
    "          ((eq? op 'imag-part) y)\n",
    "          ((eq? op 'magnitude)\n",
    "           (sqrt (+ (* x x)(* y y))))\n",
    "          ((eq? op 'angle)\n",
    "           (atan y x))\n",
    "          (else\n",
    "           (display \"unknown operation\"))))\n",
    "  dispatch)"
   ]
  },
  {
   "cell_type": "code",
   "execution_count": 28,
   "metadata": {
    "collapsed": true
   },
   "outputs": [],
   "source": [
    "(define (apply-generic op arg)(arg op))"
   ]
  },
  {
   "cell_type": "code",
   "execution_count": 33,
   "metadata": {
    "collapsed": false
   },
   "outputs": [
    {
     "data": {
      "text/plain": [
       "2.23606797749979"
      ]
     },
     "execution_count": 33,
     "metadata": {},
     "output_type": "execute_result"
    }
   ],
   "source": [
    "(apply-generic 'real-part (make-from-real-imag 1 2))\n",
    "(apply-generic 'imag-part (make-from-real-imag 1 2))\n",
    "(apply-generic 'magnitude (make-from-real-imag 1 2))\n",
    ";(apply-generic 'angle (make-from-real-imag 1 2))"
   ]
  },
  {
   "cell_type": "markdown",
   "metadata": {},
   "source": [
    "**Exercise 2.75**"
   ]
  },
  {
   "cell_type": "code",
   "execution_count": 35,
   "metadata": {
    "collapsed": false
   },
   "outputs": [],
   "source": [
    "(define (make-from-mag-ang r a)\n",
    "  (define (dispath op)\n",
    "    (cond ((eq? op 'real-part) \n",
    "           (* r (cos a)))\n",
    "          ((eq? op 'imag-part)\n",
    "           (* r (sin a)))\n",
    "          ((eq? op 'magnitude) r)\n",
    "          ((eq? op 'angle) a)\n",
    "          (else \n",
    "           (display \"unknown oepration\"))))\n",
    "  dispath)"
   ]
  }
 ],
 "metadata": {
  "kernelspec": {
   "display_name": "Calysto Scheme 3",
   "language": "scheme",
   "name": "calysto_scheme"
  },
  "language_info": {
   "codemirror_mode": {
    "name": "scheme"
   },
   "mimetype": "text/x-scheme",
   "name": "scheme",
   "pygments_lexer": "scheme"
  }
 },
 "nbformat": 4,
 "nbformat_minor": 2
}
