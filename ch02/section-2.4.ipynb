{
 "cells": [
  {
   "cell_type": "markdown",
   "metadata": {},
   "source": [
    "**Example**"
   ]
  },
  {
   "cell_type": "code",
   "execution_count": 1,
   "metadata": {
    "collapsed": false
   },
   "outputs": [],
   "source": [
    "(define (add-complex z1 z2)\n",
    "  (make-from-real-imag (+ (real-part z1) (real-part z2))\n",
    "                       (+ (imag-part z1) (imag-part z2))))\n",
    "(define (sub-complex z1 z2)\n",
    "  (make-from-real-imag (- (real-part z1) (real-part z2))\n",
    "                       (- (imag-part z1) (imag-part z2))))\n",
    "(define (mul-complex z1 z2)\n",
    "  (make-from-mag-ang (* (magnitude z1) (magnitude z2))\n",
    "                       (+ (angle z1) (angle z2))))\n",
    "(define (div-complex z1 z2)\n",
    "  (make-from-mag-ang (/ (magnitude z1) (magnitude z2))\n",
    "                     (- (angle z1) (angle z2))))"
   ]
  },
  {
   "cell_type": "code",
   "execution_count": 3,
   "metadata": {
    "collapsed": false
   },
   "outputs": [],
   "source": [
    "(define (real-part z) (car z))\n",
    "(define (imag-part z) (cdr z))\n",
    "(define (magnitude z)\n",
    "  (define (square x)(* x x))\n",
    "  (sqrt (+ (square (real-part z)) (square (imag-part z)))))\n",
    "(define (angle z)\n",
    "  (atan (imag-part z) (real-part z)))\n",
    "(define (make-from-real-imag x y)(cons x y))\n",
    "(define (make-from-mag-ang r a)\n",
    "  (cons (* r (cos a)) (* r (sin a))))"
   ]
  },
  {
   "cell_type": "code",
   "execution_count": 4,
   "metadata": {
    "collapsed": false
   },
   "outputs": [],
   "source": [
    "(define (real-part z)\n",
    "  (* (magnitude z)(cos (angle z))))\n",
    "(define (imag-part z)\n",
    "  (* (magnitude z)(sin (angle z))))\n",
    "(define (magnitude z)(car z))\n",
    "(define (angle z) (cdr z))\n",
    "(define (make-from-real-imag x y)\n",
    "  (define (square x)(* x x))\n",
    "  (cons (sqrt (+ (square x)(square y))) (atan y x)))\n",
    "(define (make-from-mag-ang r a)(cons r a))"
   ]
  },
  {
   "cell_type": "markdown",
   "metadata": {
    "collapsed": false
   },
   "source": [
    "**Example**"
   ]
  },
  {
   "cell_type": "code",
   "execution_count": 5,
   "metadata": {
    "collapsed": true
   },
   "outputs": [],
   "source": [
    "(define (attach-tag type-tag content)\n",
    "  (cons type-tag content))"
   ]
  },
  {
   "cell_type": "code",
   "execution_count": 6,
   "metadata": {
    "collapsed": true
   },
   "outputs": [],
   "source": [
    "(define (type-tag datum)\n",
    "  (if (pair? datum)\n",
    "      (car datum)\n",
    "      (display \"bad Tagged datum\")))"
   ]
  },
  {
   "cell_type": "code",
   "execution_count": 7,
   "metadata": {
    "collapsed": true
   },
   "outputs": [],
   "source": [
    "(define (contents datum)\n",
    "  (if (pair? datum)\n",
    "      (cdr datum)\n",
    "      (display \"bad tagged datum\")))"
   ]
  },
  {
   "cell_type": "code",
   "execution_count": 8,
   "metadata": {
    "collapsed": true
   },
   "outputs": [],
   "source": [
    "(define (rectangular? z)\n",
    "  (eq? (type-tag z) 'rectangular))\n",
    "(define (polar? z)\n",
    "  (eq? (type-tag z) 'polar))"
   ]
  },
  {
   "cell_type": "code",
   "execution_count": null,
   "metadata": {
    "collapsed": true
   },
   "outputs": [],
   "source": [
    "(define (real-part-rectangle z)(car z))\n",
    "(define (imag-part-rectangle z)(cdr z))\n",
    "(define (magnitude "
   ]
  }
 ],
 "metadata": {
  "kernelspec": {
   "display_name": "Calysto Scheme 3",
   "language": "scheme",
   "name": "calysto_scheme"
  },
  "language_info": {
   "codemirror_mode": {
    "name": "scheme"
   },
   "mimetype": "text/x-scheme",
   "name": "scheme",
   "pygments_lexer": "scheme"
  }
 },
 "nbformat": 4,
 "nbformat_minor": 2
}
