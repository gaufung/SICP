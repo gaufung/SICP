{
 "cells": [
  {
   "cell_type": "code",
   "execution_count": 1,
   "metadata": {
    "collapsed": false
   },
   "outputs": [],
   "source": [
    "(define table (list )) \n",
    "(define (put op type proc) \n",
    "  (set! table (append table (list (list op type proc))))) \n",
    "(define (get op type) \n",
    "  (define (search op type t) \n",
    "   (cond ((null? t) #f) \n",
    "    ((and (eqv? (caar t) op) (eqv? (cadar t) type)) \n",
    "         (caddar t)) \n",
    "    (else (search op type (cdr t))))) \n",
    "(search op type table))"
   ]
  },
  {
   "cell_type": "code",
   "execution_count": 2,
   "metadata": {
    "collapsed": true
   },
   "outputs": [],
   "source": [
    "(define (attach-tag type-tag content)\n",
    "  (cons type-tag content))"
   ]
  },
  {
   "cell_type": "code",
   "execution_count": 3,
   "metadata": {
    "collapsed": true
   },
   "outputs": [],
   "source": [
    "(define (type-tag datum)\n",
    "  (if (pair? datum)\n",
    "      (car datum)\n",
    "      (list)))"
   ]
  },
  {
   "cell_type": "code",
   "execution_count": 4,
   "metadata": {
    "collapsed": true
   },
   "outputs": [],
   "source": [
    "(define (contents datum)\n",
    "  (if (pair? datum)\n",
    "      (cdr datum)\n",
    "      (list)))"
   ]
  },
  {
   "cell_type": "code",
   "execution_count": 5,
   "metadata": {
    "collapsed": false
   },
   "outputs": [],
   "source": [
    "(define (apply-generic op . args)\n",
    "  (let ((type-tags (map type-tag args)))\n",
    "    (let ((proc (get op type-tags)))\n",
    "      (if proc\n",
    "          (apply proc (map contents args))\n",
    "          (display\n",
    "           \"no method for these type\")))))"
   ]
  },
  {
   "cell_type": "markdown",
   "metadata": {},
   "source": [
    "**Example**"
   ]
  },
  {
   "cell_type": "code",
   "execution_count": 6,
   "metadata": {
    "collapsed": true
   },
   "outputs": [],
   "source": [
    "(define (add x y) (apply-generic 'add x y))\n",
    "(define (sub x y) (apply-generic 'sub x y))\n",
    "(define (mul x y) (apply-generic 'mul x y))\n",
    "(define (div x y) (apply-generic 'div x y))"
   ]
  },
  {
   "cell_type": "code",
   "execution_count": 7,
   "metadata": {
    "collapsed": true
   },
   "outputs": [],
   "source": [
    "(define (install-scheme-number-package)\n",
    "  (define (tag x)\n",
    "    (attach-tag 'scheme-number x))\n",
    "  (put 'add '(scheme-number scheme-number)\n",
    "       (lambda x y) (+ x y))\n",
    "  (put 'sub '(scheme-number scheme-number)\n",
    "       (lambda x y) (- x y))\n",
    "  (put 'div '(scheme-number scheme-number)\n",
    "       (lambda x y) (/ x y))\n",
    "  (put 'mul '(scheme-number scheme-number)\n",
    "       (lambda x y) (* x y))\n",
    "  (put 'make 'scheme-number\n",
    "       (lambda (x) (tag x)))\n",
    "  'done)"
   ]
  },
  {
   "cell_type": "code",
   "execution_count": 8,
   "metadata": {
    "collapsed": true
   },
   "outputs": [],
   "source": [
    "(define (install-rational-package)\n",
    "  (define (numer x) (car x))\n",
    "  (define (denom x) (cdr x))\n",
    "  (define (make-rat n d)\n",
    "    (define (gcd a b)\n",
    "      (if (= b 0)\n",
    "          a\n",
    "          (gcd (b (remainder a b)))))\n",
    "    (let ((g (gcd n d)))\n",
    "      (cons (/ n g) (/ d g))))\n",
    "  (define (add-rat x y)\n",
    "    (make-rat (+ (* (numer x) (denom y))\n",
    "                 (* (numer y) (denom x)))\n",
    "              (* (denom x) (denom y))))\n",
    "  (define (sub-rat x y)\n",
    "    (make-rat (- (* (numer x) (denom y))\n",
    "                 (* (numer y) (denom x)))\n",
    "              (* (denom x) (denom y))))\n",
    "  (define (mul-rat x y)\n",
    "    (make-rat (* (numer x) (number y))\n",
    "              (* (denom x) (denom y))))\n",
    "  (define (div-rat x y)\n",
    "    (make-rat (* (numer x) (denom y))\n",
    "              (* (denom x) (numer y))))\n",
    "  (define (tag x) (attach-tag 'rational x))\n",
    "  (put 'add '(rational rational)\n",
    "       (lambda (x y) (tag (add-rat x y))))\n",
    "  (put 'sub '(rational rational)\n",
    "       (lambda (x y) (tag (sub-rat x y))))\n",
    "  (put 'mul '(rational rational)\n",
    "       (lambda (x y) (tag (mul-rat x y))))\n",
    "  (put 'div '(div div)\n",
    "       (lambda (x y) (tag (div-rat x y))))\n",
    "  (put 'make 'rational\n",
    "       (lambda (n d) (tag (make-rat n d))))\n",
    "'done)"
   ]
  },
  {
   "cell_type": "markdown",
   "metadata": {},
   "source": [
    "**Exercise 2.78**"
   ]
  },
  {
   "cell_type": "code",
   "execution_count": 13,
   "metadata": {
    "collapsed": true
   },
   "outputs": [],
   "source": [
    "(define (my-type-tag datum)\n",
    "  (cond ((number? datum) 'scheme-number)\n",
    "        ((pair? datum) (car datum))\n",
    "        (else (list))))\n",
    "(define (my-content datum)\n",
    "  (cond ((number? datum) datum)\n",
    "        ((pair? datum)(cdr datum))\n",
    "        (else (list))))\n",
    "(define (attach-tag type-tag content)\n",
    "  (if ((number? content))\n",
    "       content\n",
    "      (cons type-tag content)))"
   ]
  },
  {
   "cell_type": "markdown",
   "metadata": {},
   "source": [
    "**Exercise 2.79**"
   ]
  },
  {
   "cell_type": "code",
   "execution_count": 14,
   "metadata": {
    "collapsed": true
   },
   "outputs": [],
   "source": [
    "(define (install-scheme-number-package) \n",
    "   ;; ... \n",
    "   (put 'equ? '(scheme-number scheme-number) =) \n",
    "   'done) \n",
    "  \n",
    " (define (install-rational-package) \n",
    "   ;; ... \n",
    "   (define (equ? x y) \n",
    "     (= (* (numer x) (denom y)) (* (numer y) (denom x)))) \n",
    "   ;; ... \n",
    "   (put 'equ? '(rational rational) equ?) \n",
    "   'done) "
   ]
  },
  {
   "cell_type": "markdown",
   "metadata": {},
   "source": [
    "**Exercise 2.80**"
   ]
  },
  {
   "cell_type": "code",
   "execution_count": 16,
   "metadata": {
    "collapsed": false
   },
   "outputs": [],
   "source": [
    "(define (install-scheme-number-package)\n",
    "  (put 'zero? 'scheme-numer\n",
    "       (lambda (x) (= x 0)))\n",
    "  'done)\n",
    "(define (install-rational-package)\n",
    "  ;; ...\n",
    "  (define 'zero? 'rational\n",
    "    (lambda (x) (= (numer x) 0)))\n",
    "  'done)"
   ]
  },
  {
   "cell_type": "code",
   "execution_count": null,
   "metadata": {
    "collapsed": true
   },
   "outputs": [],
   "source": []
  }
 ],
 "metadata": {
  "kernelspec": {
   "display_name": "Calysto Scheme 3",
   "language": "scheme",
   "name": "calysto_scheme"
  },
  "language_info": {
   "codemirror_mode": {
    "name": "scheme"
   },
   "mimetype": "text/x-scheme",
   "name": "scheme",
   "pygments_lexer": "scheme"
  }
 },
 "nbformat": 4,
 "nbformat_minor": 2
}
