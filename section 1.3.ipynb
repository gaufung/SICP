{
 "cells": [
  {
   "cell_type": "markdown",
   "metadata": {},
   "source": [
    "**Example**"
   ]
  },
  {
   "cell_type": "code",
   "execution_count": 1,
   "metadata": {
    "collapsed": true
   },
   "outputs": [],
   "source": [
    "(define (sum term a next b)\n",
    "  (if (> a b)\n",
    "      0\n",
    "      (+ (term a)\n",
    "         (sum term (next a) next b))))"
   ]
  },
  {
   "cell_type": "code",
   "execution_count": 4,
   "metadata": {
    "collapsed": true
   },
   "outputs": [],
   "source": [
    "(define (inc n) (+ n 1))\n",
    "(define (cube n) (* n n n))\n",
    "(define (sum-cube a b)\n",
    "  (sum cube a inc b))"
   ]
  },
  {
   "cell_type": "code",
   "execution_count": 5,
   "metadata": {
    "collapsed": false
   },
   "outputs": [
    {
     "data": {
      "text/plain": [
       "3025"
      ]
     },
     "execution_count": 5,
     "metadata": {},
     "output_type": "execute_result"
    }
   ],
   "source": [
    "(sum-cube 1 10)"
   ]
  },
  {
   "cell_type": "code",
   "execution_count": 6,
   "metadata": {
    "collapsed": true
   },
   "outputs": [],
   "source": [
    "(define (identify x) x)\n",
    "(define (sum-integers a b)\n",
    "  (sum identify a inc b))"
   ]
  },
  {
   "cell_type": "code",
   "execution_count": 7,
   "metadata": {
    "collapsed": false
   },
   "outputs": [
    {
     "data": {
      "text/plain": [
       "55"
      ]
     },
     "execution_count": 7,
     "metadata": {},
     "output_type": "execute_result"
    }
   ],
   "source": [
    "(sum-integers 1 10)"
   ]
  },
  {
   "cell_type": "code",
   "execution_count": 9,
   "metadata": {
    "collapsed": false
   },
   "outputs": [],
   "source": [
    "(define (pi-sum a b)\n",
    "  (define (pi-term x)\n",
    "    (/ 1.0 (* x (+ x 2))))\n",
    "  (define (pi-next x)\n",
    "    (+ x 4))\n",
    "  (sum pi-term a pi-next b))"
   ]
  },
  {
   "cell_type": "code",
   "execution_count": 11,
   "metadata": {
    "collapsed": false
   },
   "outputs": [
    {
     "data": {
      "text/plain": [
       "3.141392653591793"
      ]
     },
     "execution_count": 11,
     "metadata": {},
     "output_type": "execute_result"
    }
   ],
   "source": [
    "(* 8 (pi-sum 1 10000))"
   ]
  },
  {
   "cell_type": "code",
   "execution_count": 12,
   "metadata": {
    "collapsed": true
   },
   "outputs": [],
   "source": [
    "(define (integral f a b dx)\n",
    "  (define (add-dx x) (+ x dx))\n",
    "  (* (sum f (+ a (/ dx 2.0)) add-dx b) dx ))"
   ]
  },
  {
   "cell_type": "code",
   "execution_count": 14,
   "metadata": {
    "collapsed": false
   },
   "outputs": [
    {
     "data": {
      "text/plain": [
       "0.249999875000001"
      ]
     },
     "execution_count": 14,
     "metadata": {},
     "output_type": "execute_result"
    }
   ],
   "source": [
    "(integral cube 0 1 0.001)"
   ]
  },
  {
   "cell_type": "markdown",
   "metadata": {},
   "source": [
    "**Exericse 1.29**\n",
    "    "
   ]
  },
  {
   "cell_type": "code",
   "execution_count": 26,
   "metadata": {
    "collapsed": false
   },
   "outputs": [],
   "source": [
    "(define (round-to-next-even x) \n",
    "   (+ x (remainder x 2)))\n",
    "(define (simpson f a b n) \n",
    "   (define fixed-n (round-to-next-even n))\n",
    "   (define (even? x) (= (remainder x 2) 0))\n",
    "   (define (inc x)(+ x 1))\n",
    "   (define h (/ (- b a) fixed-n)) \n",
    "   (define (simpson-term k) \n",
    "     (define y (f (+ a (* k h)))) \n",
    "     (if (or (= k 0) (= k fixed-n)) \n",
    "         (* 1 y) \n",
    "         (if (even? k) \n",
    "             (* 2 y) \n",
    "             (* 4 y)))) \n",
    "   (* (/ h 3) (sum simpson-term 0 inc fixed-n))) "
   ]
  },
  {
   "cell_type": "code",
   "execution_count": 29,
   "metadata": {
    "collapsed": false
   },
   "outputs": [
    {
     "data": {
      "text/plain": [
       "1/4"
      ]
     },
     "execution_count": 29,
     "metadata": {},
     "output_type": "execute_result"
    }
   ],
   "source": [
    "(simpson cube 0 1 10)"
   ]
  },
  {
   "cell_type": "markdown",
   "metadata": {},
   "source": [
    "**Exercise 1.30**"
   ]
  },
  {
   "cell_type": "code",
   "execution_count": 34,
   "metadata": {
    "collapsed": true
   },
   "outputs": [],
   "source": [
    "(define (sum term a next b)\n",
    "  (define (iter a result)\n",
    "    (if (> a b)\n",
    "        result\n",
    "        (iter (next a) (+ (term a) result))))\n",
    "  (iter a 0))"
   ]
  },
  {
   "cell_type": "markdown",
   "metadata": {},
   "source": [
    "**Exercise 1.31(a)**"
   ]
  },
  {
   "cell_type": "code",
   "execution_count": 35,
   "metadata": {
    "collapsed": false
   },
   "outputs": [],
   "source": [
    "(define (product term a next b)\n",
    "    (if (> a b)\n",
    "        1\n",
    "        (* (term a) (product term (next a) next b))))\n",
    "\n",
    "(define (pi-term x)\n",
    "    (/ (* (- x 1) (+ x 1) 1.0) (* x x)))\n",
    "\n",
    "(define (pi-next n) (+ n 2))\n",
    "\n",
    "(define (product-pi n)\n",
    "    (* 4 (product pi-term 3 pi-next (+ (* 2 n) 1))))"
   ]
  },
  {
   "cell_type": "code",
   "execution_count": 36,
   "metadata": {
    "collapsed": false
   },
   "outputs": [
    {
     "data": {
      "text/plain": [
       "3.1493784731686008"
      ]
     },
     "execution_count": 36,
     "metadata": {},
     "output_type": "execute_result"
    }
   ],
   "source": [
    "(product-pi 100)"
   ]
  },
  {
   "cell_type": "markdown",
   "metadata": {},
   "source": [
    "**Exercise 1.31(b)**"
   ]
  },
  {
   "cell_type": "code",
   "execution_count": 37,
   "metadata": {
    "collapsed": true
   },
   "outputs": [],
   "source": [
    "(define (product term a next b)\n",
    "  (define (iter a result)\n",
    "    (if (> a b)\n",
    "        result\n",
    "        (iter (next a) (* (term a) result))))\n",
    "  (iter a 1))"
   ]
  },
  {
   "cell_type": "code",
   "execution_count": 38,
   "metadata": {
    "collapsed": true
   },
   "outputs": [],
   "source": [
    "(define (pi-term x)\n",
    "    (/ (* (- x 1) (+ x 1) 1.0) (* x x)))\n",
    "\n",
    "(define (pi-next n) (+ n 2))\n",
    "\n",
    "(define (product-pi n)\n",
    "    (* 4 (product pi-term 3 pi-next (+ (* 2 n) 1))))"
   ]
  },
  {
   "cell_type": "code",
   "execution_count": 39,
   "metadata": {
    "collapsed": false
   },
   "outputs": [
    {
     "data": {
      "text/plain": [
       "3.149378473168601"
      ]
     },
     "execution_count": 39,
     "metadata": {},
     "output_type": "execute_result"
    }
   ],
   "source": [
    "(product-pi 100)"
   ]
  },
  {
   "cell_type": "markdown",
   "metadata": {},
   "source": [
    "**Exercise 1.32(a)**"
   ]
  },
  {
   "cell_type": "code",
   "execution_count": 40,
   "metadata": {
    "collapsed": true
   },
   "outputs": [],
   "source": [
    "(define (accumulate combiner null-value term a next b)\n",
    "  (if (> a b)\n",
    "      null-value\n",
    "      (combiner (term a) (accumulate combiner null-value term (next a) next b))))"
   ]
  },
  {
   "cell_type": "code",
   "execution_count": 41,
   "metadata": {
    "collapsed": true
   },
   "outputs": [],
   "source": [
    "(define (sum term a next b)\n",
    "  (define (add a b)(+ a b))\n",
    "  (accumulate add 0 term a next b))"
   ]
  },
  {
   "cell_type": "code",
   "execution_count": 42,
   "metadata": {
    "collapsed": true
   },
   "outputs": [],
   "source": [
    "(define (product term a next b)\n",
    "  (define (multiply a b)(* a b))\n",
    "  (accumulate multiply 1 term a next b))"
   ]
  },
  {
   "cell_type": "markdown",
   "metadata": {},
   "source": [
    "**Exercise 1.32(b)**"
   ]
  },
  {
   "cell_type": "code",
   "execution_count": 43,
   "metadata": {
    "collapsed": true
   },
   "outputs": [],
   "source": [
    "(define (accumulate combiner null-value term a next b)\n",
    "  (define (iter a result)\n",
    "    (if (> a b)\n",
    "        result\n",
    "        (iter (next a) (combiner (term a) result))))\n",
    "  (iter a null-value))"
   ]
  },
  {
   "cell_type": "markdown",
   "metadata": {},
   "source": [
    "**Exercise 1.33(a)**"
   ]
  },
  {
   "cell_type": "code",
   "execution_count": 80,
   "metadata": {
    "collapsed": true
   },
   "outputs": [],
   "source": [
    "(define (filtered-accumulate filter combiner null-value term a next b)\n",
    "  (define (predict x)\n",
    "    (if (filter x)\n",
    "        x\n",
    "        null-value))\n",
    "  (if (> a b)\n",
    "      null-value\n",
    "      (combiner (filter (term a)) (filtered-accumulate filter combiner null-value term (next a) next b ))))"
   ]
  },
  {
   "cell_type": "code",
   "execution_count": 85,
   "metadata": {
    "collapsed": false
   },
   "outputs": [
    {
     "data": {
      "text/plain": [
       "20"
      ]
     },
     "execution_count": 85,
     "metadata": {},
     "output_type": "execute_result"
    }
   ],
   "source": [
    "(define (even? x)(= (remainder x 2) 0))\n",
    "(define (add a b)(+ a b))\n",
    "(define (identify x) x )\n",
    "(define (inc x)(+ x 1))\n",
    "(filtered-accumulate even? add 0 identify 1 inc 8)"
   ]
  },
  {
   "cell_type": "code",
   "execution_count": 88,
   "metadata": {
    "collapsed": false
   },
   "outputs": [],
   "source": [
    "(define (prime-sum a b)\n",
    "  (define (prime? n)\n",
    "    (define (smallest-divisor n)\n",
    "      (find-divisor n 2))\n",
    "    (define (find-divisor n test-divisor)\n",
    "      (cond ((> (square test-divisor) n) n)\n",
    "            ((divides? test-divisor n) test-divisor)\n",
    "            (else (find-divisor n (+ test-divisor 1)))))\n",
    "    (define (divides? a b)\n",
    "      (= (remainder b a) 0))\n",
    "    (define (square n)(* n n))\n",
    "    (= n (smallest-divisor n)))\n",
    "  (define (add a b)(+ a b))\n",
    "  (define (identify x) x)\n",
    "  (define (inc x)(+ x 1))\n",
    "  (filtered-accumulate prime? add 0 identify a inc b))"
   ]
  },
  {
   "cell_type": "code",
   "execution_count": 89,
   "metadata": {
    "collapsed": false
   },
   "outputs": [
    {
     "data": {
      "text/plain": [
       "18"
      ]
     },
     "execution_count": 89,
     "metadata": {},
     "output_type": "execute_result"
    }
   ],
   "source": [
    "(prime-sum 0 10)"
   ]
  },
  {
   "cell_type": "markdown",
   "metadata": {},
   "source": [
    "**Exercise 1.33(b)**"
   ]
  },
  {
   "cell_type": "code",
   "execution_count": 91,
   "metadata": {
    "collapsed": false
   },
   "outputs": [],
   "source": [
    "(define (gcd a b)\n",
    "  (if (= b 0)\n",
    "      a \n",
    "      (gcd b (remainder a b))))\n",
    "(define (gcd-product n)\n",
    "  (define (relative-prime? x)\n",
    "    (= (gcd x n) 1))\n",
    "  (define (product a b)(* a b))\n",
    "  (define (identify x) x)\n",
    "  (define (inc x)(+ x 1))\n",
    "  (filtered-accumulate relative-prime? product 1 identify 1 inc n))"
   ]
  },
  {
   "cell_type": "code",
   "execution_count": 92,
   "metadata": {
    "collapsed": false
   },
   "outputs": [
    {
     "data": {
      "text/plain": [
       "189"
      ]
     },
     "execution_count": 92,
     "metadata": {},
     "output_type": "execute_result"
    }
   ],
   "source": [
    "(gcd-product 10)"
   ]
  }
 ],
 "metadata": {
  "kernelspec": {
   "display_name": "Calysto Scheme 3",
   "language": "scheme",
   "name": "calysto_scheme"
  },
  "language_info": {
   "codemirror_mode": {
    "name": "scheme"
   },
   "mimetype": "text/x-scheme",
   "name": "scheme",
   "pygments_lexer": "scheme"
  }
 },
 "nbformat": 4,
 "nbformat_minor": 2
}
